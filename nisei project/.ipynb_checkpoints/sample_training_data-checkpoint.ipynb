{
 "cells": [
  {
   "cell_type": "markdown",
   "id": "27c4c870-86f2-4048-83c1-94d587bd9367",
   "metadata": {},
   "source": [
    "# Sample Data Maker\n",
    "\n",
    "this creates a sample data set that is in the format ready to be classified by a translator. thank you !"
   ]
  },
  {
   "cell_type": "code",
   "execution_count": 6,
   "id": "1977bb97-a9a7-4397-9355-2f4c65fdabd5",
   "metadata": {},
   "outputs": [],
   "source": [
    "# import libraries\n",
    "import pandas as pd\n",
    "import numpy as np\n",
    "import seaborn as sns"
   ]
  },
  {
   "cell_type": "code",
   "execution_count": 13,
   "id": "9a396d7b-d9ae-48dd-8227-f9e3dfef4d45",
   "metadata": {},
   "outputs": [],
   "source": [
    "data = pd.read_json('../../data/output_5000_redo.json') "
   ]
  },
  {
   "cell_type": "code",
   "execution_count": 14,
   "id": "3563bc15-e14a-4282-81e1-92280506d598",
   "metadata": {},
   "outputs": [
    {
     "data": {
      "text/html": [
       "<div>\n",
       "<style scoped>\n",
       "    .dataframe tbody tr th:only-of-type {\n",
       "        vertical-align: middle;\n",
       "    }\n",
       "\n",
       "    .dataframe tbody tr th {\n",
       "        vertical-align: top;\n",
       "    }\n",
       "\n",
       "    .dataframe thead th {\n",
       "        text-align: right;\n",
       "    }\n",
       "</style>\n",
       "<table border=\"1\" class=\"dataframe\">\n",
       "  <thead>\n",
       "    <tr style=\"text-align: right;\">\n",
       "      <th></th>\n",
       "      <th>link</th>\n",
       "      <th>linkWithDate</th>\n",
       "      <th>numWords</th>\n",
       "      <th>paragraphs</th>\n",
       "      <th>pdfName</th>\n",
       "    </tr>\n",
       "  </thead>\n",
       "  <tbody>\n",
       "    <tr>\n",
       "      <th>0</th>\n",
       "      <td>https://hojishinbun.hoover.org/?a=d&amp;d=jan19360...</td>\n",
       "      <td>https://hojishinbun.hoover.org/en/newspapers/j...</td>\n",
       "      <td>5</td>\n",
       "      <td>滅念祀迎獸轚鼴罾鐮 81 帝 1 世を黏レゎそれ —№ 11 にこ # は於 &amp; しヤやニル...</td>\n",
       "      <td>jan_19360710_0019.pdf</td>\n",
       "    </tr>\n",
       "    <tr>\n",
       "      <th>1</th>\n",
       "      <td>https://hojishinbun.hoover.org/?a=d&amp;d=kam19350...</td>\n",
       "      <td>https://hojishinbun.hoover.org/en/newspapers/k...</td>\n",
       "      <td>7</td>\n",
       "      <td>「 ，！ 一 ： こ匿 - — 511. :.?-&lt;-€¢€1—\"--#118*141( -...</td>\n",
       "      <td>kam_19350811_0003.pdf</td>\n",
       "    </tr>\n",
       "    <tr>\n",
       "      <th>2</th>\n",
       "      <td>https://hojishinbun.hoover.org/?a=d&amp;d=kam19420...</td>\n",
       "      <td>https://hojishinbun.hoover.org/en/newspapers/k...</td>\n",
       "      <td>5</td>\n",
       "      <td>一世二世の失業者は ’： 一 1^ ノ至急市協へ報吿せょ一 ：1 - ”£2” 日本人救濟の...</td>\n",
       "      <td>kam_19420128_0003.pdf</td>\n",
       "    </tr>\n",
       "    <tr>\n",
       "      <th>3</th>\n",
       "      <td>https://hojishinbun.hoover.org/?a=d&amp;d=jan19410...</td>\n",
       "      <td>https://hojishinbun.hoover.org/en/newspapers/j...</td>\n",
       "      <td>6</td>\n",
       "      <td>號ニ十六百七千四万一第 當太和 3 声では開菜一一一却年 2.. ' と I て來る四 ：：...</td>\n",
       "      <td>jan_19410107_0005.pdf</td>\n",
       "    </tr>\n",
       "    <tr>\n",
       "      <th>4</th>\n",
       "      <td>https://hojishinbun.hoover.org/?a=d&amp;d=kam19350...</td>\n",
       "      <td>https://hojishinbun.hoover.org/en/newspapers/k...</td>\n",
       "      <td>2</td>\n",
       "      <td>ジブラルタルとスュズ運河 ， 藤丼整 霉とな 〇 先が ^ ブチルタル線杯か 6111 8 ...</td>\n",
       "      <td>kam_19350922_0002.pdf</td>\n",
       "    </tr>\n",
       "  </tbody>\n",
       "</table>\n",
       "</div>"
      ],
      "text/plain": [
       "                                                link  \\\n",
       "0  https://hojishinbun.hoover.org/?a=d&d=jan19360...   \n",
       "1  https://hojishinbun.hoover.org/?a=d&d=kam19350...   \n",
       "2  https://hojishinbun.hoover.org/?a=d&d=kam19420...   \n",
       "3  https://hojishinbun.hoover.org/?a=d&d=jan19410...   \n",
       "4  https://hojishinbun.hoover.org/?a=d&d=kam19350...   \n",
       "\n",
       "                                        linkWithDate  numWords  \\\n",
       "0  https://hojishinbun.hoover.org/en/newspapers/j...         5   \n",
       "1  https://hojishinbun.hoover.org/en/newspapers/k...         7   \n",
       "2  https://hojishinbun.hoover.org/en/newspapers/k...         5   \n",
       "3  https://hojishinbun.hoover.org/en/newspapers/j...         6   \n",
       "4  https://hojishinbun.hoover.org/en/newspapers/k...         2   \n",
       "\n",
       "                                          paragraphs                pdfName  \n",
       "0  滅念祀迎獸轚鼴罾鐮 81 帝 1 世を黏レゎそれ —№ 11 にこ # は於 & しヤやニル...  jan_19360710_0019.pdf  \n",
       "1  「 ，！ 一 ： こ匿 - — 511. :.?-<-€¢€1—\"--#118*141( -...  kam_19350811_0003.pdf  \n",
       "2  一世二世の失業者は ’： 一 1^ ノ至急市協へ報吿せょ一 ：1 - ”£2” 日本人救濟の...  kam_19420128_0003.pdf  \n",
       "3  號ニ十六百七千四万一第 當太和 3 声では開菜一一一却年 2.. ' と I て來る四 ：：...  jan_19410107_0005.pdf  \n",
       "4  ジブラルタルとスュズ運河 ， 藤丼整 霉とな 〇 先が ^ ブチルタル線杯か 6111 8 ...  kam_19350922_0002.pdf  "
      ]
     },
     "execution_count": 14,
     "metadata": {},
     "output_type": "execute_result"
    }
   ],
   "source": [
    "data.head()"
   ]
  },
  {
   "cell_type": "code",
   "execution_count": 4,
   "id": "59a6d14d-19fe-45bf-bfb9-d9ab69010b08",
   "metadata": {},
   "outputs": [],
   "source": [
    "data = data[data['numWords']>0]\n",
    "data_cleaned = data[['link','numWords','paragraphs']]\n",
    "labels_col = np.zeros(int(data_cleaned.shape[0])) - 99 # -99 so we know if it was labelled yet \n",
    "data_cleaned = data_cleaned.assign(**{'label': labels_col})"
   ]
  },
  {
   "cell_type": "code",
   "execution_count": 5,
   "id": "1b0439be-e6fa-49d6-be5f-28edc78ec3a4",
   "metadata": {},
   "outputs": [
    {
     "data": {
      "text/html": [
       "<div>\n",
       "<style scoped>\n",
       "    .dataframe tbody tr th:only-of-type {\n",
       "        vertical-align: middle;\n",
       "    }\n",
       "\n",
       "    .dataframe tbody tr th {\n",
       "        vertical-align: top;\n",
       "    }\n",
       "\n",
       "    .dataframe thead th {\n",
       "        text-align: right;\n",
       "    }\n",
       "</style>\n",
       "<table border=\"1\" class=\"dataframe\">\n",
       "  <thead>\n",
       "    <tr style=\"text-align: right;\">\n",
       "      <th></th>\n",
       "      <th>link</th>\n",
       "      <th>numWords</th>\n",
       "      <th>paragraphs</th>\n",
       "      <th>label</th>\n",
       "    </tr>\n",
       "  </thead>\n",
       "  <tbody>\n",
       "    <tr>\n",
       "      <th>2746</th>\n",
       "      <td>https://hojishinbun.hoover.org/?a=d&amp;d=tnw19310...</td>\n",
       "      <td>1</td>\n",
       "      <td>诚六廿 ^: 八午家箱 ？ 0 奶 日系市民の副檢事月偉千ドルを受く市民官吏中のタツブを切る...</td>\n",
       "      <td>-99.0</td>\n",
       "    </tr>\n",
       "    <tr>\n",
       "      <th>2001</th>\n",
       "      <td>https://hojishinbun.hoover.org/?a=d&amp;d=kam19320...</td>\n",
       "      <td>1</td>\n",
       "      <td>， 本學生にこの正義觀敎室で親日高唱非常識な排日敎師をやリこめる二 ， 蜜林某小學校の話 I...</td>\n",
       "      <td>-99.0</td>\n",
       "    </tr>\n",
       "    <tr>\n",
       "      <th>2002</th>\n",
       "      <td>https://hojishinbun.hoover.org/?a=d&amp;d=nws19360...</td>\n",
       "      <td>1</td>\n",
       "      <td>漦九十九对三第 閱斩ロ輞荩 # 餅 II 際 : こニ ^ 麵女一塲技競泳水會大オンリルべ一...</td>\n",
       "      <td>-99.0</td>\n",
       "    </tr>\n",
       "    <tr>\n",
       "      <th>2003</th>\n",
       "      <td>https://hojishinbun.hoover.org/?a=d&amp;d=nws19401...</td>\n",
       "      <td>1</td>\n",
       "      <td>( 电京卜 ： れは闻既じ去る九日御成年式を取げさせられた東久邇宮彰常 ： 土殿下にはよあふ...</td>\n",
       "      <td>-99.0</td>\n",
       "    </tr>\n",
       "    <tr>\n",
       "      <th>2004</th>\n",
       "      <td>https://hojishinbun.hoover.org/?a=d&amp;d=jan19290...</td>\n",
       "      <td>1</td>\n",
       "      <td>0 ¢8 ” み霣ニ供 ， 一 - 、 〇 六西故弗の鑛山女王自動米衝突 7 落命飲 31 ...</td>\n",
       "      <td>-99.0</td>\n",
       "    </tr>\n",
       "    <tr>\n",
       "      <th>...</th>\n",
       "      <td>...</td>\n",
       "      <td>...</td>\n",
       "      <td>...</td>\n",
       "      <td>...</td>\n",
       "    </tr>\n",
       "    <tr>\n",
       "      <th>4166</th>\n",
       "      <td>https://hojishinbun.hoover.org/?a=d&amp;d=nis19370...</td>\n",
       "      <td>21</td>\n",
       "      <td>. 一 「 爲讀港寄書 、 18111113118188— 自 E 『 ユ愿 446 戋 【...</td>\n",
       "      <td>-99.0</td>\n",
       "    </tr>\n",
       "    <tr>\n",
       "      <th>4163</th>\n",
       "      <td>https://hojishinbun.hoover.org/?a=d&amp;d=ksp19400...</td>\n",
       "      <td>23</td>\n",
       "      <td>為號八十七百七千一第報新哇加日一月一年五十和昭 たびあぢそく ^. 旅はよいもの味なもの ，...</td>\n",
       "      <td>-99.0</td>\n",
       "    </tr>\n",
       "    <tr>\n",
       "      <th>4171</th>\n",
       "      <td>https://hojishinbun.hoover.org/?a=d&amp;d=jan19380...</td>\n",
       "      <td>24</td>\n",
       "      <td>本嗍鼇に就ぃて其の寅默旳方法を猶ずる C 先き立つて先つ £ 鼠を二 0 に $ 黻し . ...</td>\n",
       "      <td>-99.0</td>\n",
       "    </tr>\n",
       "    <tr>\n",
       "      <th>4195</th>\n",
       "      <td>https://hojishinbun.hoover.org/?a=d&amp;d=tht19470...</td>\n",
       "      <td>25</td>\n",
       "      <td>me &amp; 厂 ・ ! ・ ー ー ー ー — 一 新日本の活舞臺に , 躍進の二世群像 … ...</td>\n",
       "      <td>-99.0</td>\n",
       "    </tr>\n",
       "    <tr>\n",
       "      <th>4188</th>\n",
       "      <td>https://hojishinbun.hoover.org/?a=d&amp;d=mas19391...</td>\n",
       "      <td>26</td>\n",
       "      <td>日九辻月二十年九三九一聞新哇馬 I マゥィに於ける短歌の隆 : 盛は月を追うて成果しつつ一あ...</td>\n",
       "      <td>-99.0</td>\n",
       "    </tr>\n",
       "  </tbody>\n",
       "</table>\n",
       "<p>2950 rows × 4 columns</p>\n",
       "</div>"
      ],
      "text/plain": [
       "                                                   link  numWords  \\\n",
       "2746  https://hojishinbun.hoover.org/?a=d&d=tnw19310...         1   \n",
       "2001  https://hojishinbun.hoover.org/?a=d&d=kam19320...         1   \n",
       "2002  https://hojishinbun.hoover.org/?a=d&d=nws19360...         1   \n",
       "2003  https://hojishinbun.hoover.org/?a=d&d=nws19401...         1   \n",
       "2004  https://hojishinbun.hoover.org/?a=d&d=jan19290...         1   \n",
       "...                                                 ...       ...   \n",
       "4166  https://hojishinbun.hoover.org/?a=d&d=nis19370...        21   \n",
       "4163  https://hojishinbun.hoover.org/?a=d&d=ksp19400...        23   \n",
       "4171  https://hojishinbun.hoover.org/?a=d&d=jan19380...        24   \n",
       "4195  https://hojishinbun.hoover.org/?a=d&d=tht19470...        25   \n",
       "4188  https://hojishinbun.hoover.org/?a=d&d=mas19391...        26   \n",
       "\n",
       "                                             paragraphs  label  \n",
       "2746  诚六廿 ^: 八午家箱 ？ 0 奶 日系市民の副檢事月偉千ドルを受く市民官吏中のタツブを切る...  -99.0  \n",
       "2001  ， 本學生にこの正義觀敎室で親日高唱非常識な排日敎師をやリこめる二 ， 蜜林某小學校の話 I...  -99.0  \n",
       "2002  漦九十九对三第 閱斩ロ輞荩 # 餅 II 際 : こニ ^ 麵女一塲技競泳水會大オンリルべ一...  -99.0  \n",
       "2003  ( 电京卜 ： れは闻既じ去る九日御成年式を取げさせられた東久邇宮彰常 ： 土殿下にはよあふ...  -99.0  \n",
       "2004  0 ¢8 ” み霣ニ供 ， 一 - 、 〇 六西故弗の鑛山女王自動米衝突 7 落命飲 31 ...  -99.0  \n",
       "...                                                 ...    ...  \n",
       "4166  . 一 「 爲讀港寄書 、 18111113118188— 自 E 『 ユ愿 446 戋 【...  -99.0  \n",
       "4163  為號八十七百七千一第報新哇加日一月一年五十和昭 たびあぢそく ^. 旅はよいもの味なもの ，...  -99.0  \n",
       "4171  本嗍鼇に就ぃて其の寅默旳方法を猶ずる C 先き立つて先つ £ 鼠を二 0 に $ 黻し . ...  -99.0  \n",
       "4195  me & 厂 ・ ! ・ ー ー ー ー — 一 新日本の活舞臺に , 躍進の二世群像 … ...  -99.0  \n",
       "4188  日九辻月二十年九三九一聞新哇馬 I マゥィに於ける短歌の隆 : 盛は月を追うて成果しつつ一あ...  -99.0  \n",
       "\n",
       "[2950 rows x 4 columns]"
      ]
     },
     "execution_count": 5,
     "metadata": {},
     "output_type": "execute_result"
    }
   ],
   "source": [
    "data_cleaned.sort_values('numWords', ascending = True)"
   ]
  },
  {
   "cell_type": "code",
   "execution_count": 7,
   "id": "ee013f1c-2a32-4a1d-bb9b-24c234695c71",
   "metadata": {},
   "outputs": [
    {
     "data": {
      "text/plain": [
       "<Axes: xlabel='numWords', ylabel='Count'>"
      ]
     },
     "execution_count": 7,
     "metadata": {},
     "output_type": "execute_result"
    },
    {
     "data": {
      "image/png": "[encoded data removed]",
      "text/plain": [
       "<Figure size 640x480 with 1 Axes>"
      ]
     },
     "metadata": {},
     "output_type": "display_data"
    }
   ],
   "source": [
    "sns.histplot(data = data_cleaned, x = 'numWords')"
   ]
  },
  {
   "cell_type": "code",
   "execution_count": 8,
   "id": "fd1d6f0a-1224-4d78-a65f-fedf1662271f",
   "metadata": {},
   "outputs": [
    {
     "data": {
      "text/plain": [
       "numWords\n",
       "1     1282\n",
       "2      556\n",
       "3      268\n",
       "4      153\n",
       "5      135\n",
       "6      148\n",
       "7      122\n",
       "8       86\n",
       "9       62\n",
       "10      46\n",
       "11      24\n",
       "12      22\n",
       "13      15\n",
       "14       8\n",
       "15       5\n",
       "16       2\n",
       "17       3\n",
       "18       4\n",
       "19       1\n",
       "20       1\n",
       "21       3\n",
       "23       1\n",
       "24       1\n",
       "25       1\n",
       "26       1\n",
       "dtype: int64"
      ]
     },
     "execution_count": 8,
     "metadata": {},
     "output_type": "execute_result"
    }
   ],
   "source": [
    "# let's create a data table that shows how many data points only have one hit: \n",
    "data_cleaned.groupby('numWords').size()"
   ]
  },
  {
   "cell_type": "code",
   "execution_count": 9,
   "id": "4f6ffd00-3551-4c13-b714-0e92c088dd78",
   "metadata": {},
   "outputs": [
    {
     "data": {
      "text/html": [
       "<div>\n",
       "<style scoped>\n",
       "    .dataframe tbody tr th:only-of-type {\n",
       "        vertical-align: middle;\n",
       "    }\n",
       "\n",
       "    .dataframe tbody tr th {\n",
       "        vertical-align: top;\n",
       "    }\n",
       "\n",
       "    .dataframe thead th {\n",
       "        text-align: right;\n",
       "    }\n",
       "</style>\n",
       "<table border=\"1\" class=\"dataframe\">\n",
       "  <thead>\n",
       "    <tr style=\"text-align: right;\">\n",
       "      <th></th>\n",
       "      <th>link</th>\n",
       "      <th>numWords</th>\n",
       "      <th>paragraphs</th>\n",
       "      <th>label</th>\n",
       "    </tr>\n",
       "  </thead>\n",
       "  <tbody>\n",
       "    <tr>\n",
       "      <th>11</th>\n",
       "      <td>https://hojishinbun.hoover.org/?a=d&amp;d=nwd19330...</td>\n",
       "      <td>1</td>\n",
       "      <td>故叫 1.1 供 各部 ^ の選 -: 疋や歡迎萆備八 0 0 兮 1 |1 ：1：^ ,,...</td>\n",
       "      <td>-99.0</td>\n",
       "    </tr>\n",
       "    <tr>\n",
       "      <th>14</th>\n",
       "      <td>https://hojishinbun.hoover.org/?a=d&amp;d=kam19340...</td>\n",
       "      <td>1</td>\n",
       "      <td>7 く \\ 1V 琴 ' 0 デ 0 一 V，， 1 ，' 〇 二 〇 ー ト 1 一 32...</td>\n",
       "      <td>-99.0</td>\n",
       "    </tr>\n",
       "    <tr>\n",
       "      <th>38</th>\n",
       "      <td>https://hojishinbun.hoover.org/?a=d&amp;d=jan19331...</td>\n",
       "      <td>1</td>\n",
       "      <td>W&amp;i+UK C 先立って返に金一す • へ金海車 3 Ms_ 六 ！ Ett 一月中 5?...</td>\n",
       "      <td>-99.0</td>\n",
       "    </tr>\n",
       "    <tr>\n",
       "      <th>54</th>\n",
       "      <td>https://hojishinbun.hoover.org/?a=d&amp;d=buj19320...</td>\n",
       "      <td>1</td>\n",
       "      <td>・ ・ ・ - ー ・ ・ : ・ - I ・ 0 自由論壇 〇 ! 一 ー 二世敎育方法の...</td>\n",
       "      <td>-99.0</td>\n",
       "    </tr>\n",
       "    <tr>\n",
       "      <th>55</th>\n",
       "      <td>https://hojishinbun.hoover.org/?a=d&amp;d=kam19320...</td>\n",
       "      <td>1</td>\n",
       "      <td>オリンヒックと , 第二世の敎育小田斿鎗夫 ひ瘳 &amp; 吒てゐた方 4 ンビツク 4 # 1 ...</td>\n",
       "      <td>-99.0</td>\n",
       "    </tr>\n",
       "  </tbody>\n",
       "</table>\n",
       "</div>"
      ],
      "text/plain": [
       "                                                 link  numWords  \\\n",
       "11  https://hojishinbun.hoover.org/?a=d&d=nwd19330...         1   \n",
       "14  https://hojishinbun.hoover.org/?a=d&d=kam19340...         1   \n",
       "38  https://hojishinbun.hoover.org/?a=d&d=jan19331...         1   \n",
       "54  https://hojishinbun.hoover.org/?a=d&d=buj19320...         1   \n",
       "55  https://hojishinbun.hoover.org/?a=d&d=kam19320...         1   \n",
       "\n",
       "                                           paragraphs  label  \n",
       "11  故叫 1.1 供 各部 ^ の選 -: 疋や歡迎萆備八 0 0 兮 1 |1 ：1：^ ,,...  -99.0  \n",
       "14  7 く \\ 1V 琴 ' 0 デ 0 一 V，， 1 ，' 〇 二 〇 ー ト 1 一 32...  -99.0  \n",
       "38  W&i+UK C 先立って返に金一す • へ金海車 3 Ms_ 六 ！ Ett 一月中 5?...  -99.0  \n",
       "54  ・ ・ ・ - ー ・ ・ : ・ - I ・ 0 自由論壇 〇 ! 一 ー 二世敎育方法の...  -99.0  \n",
       "55  オリンヒックと , 第二世の敎育小田斿鎗夫 ひ瘳 & 吒てゐた方 4 ンビツク 4 # 1 ...  -99.0  "
      ]
     },
     "execution_count": 9,
     "metadata": {},
     "output_type": "execute_result"
    }
   ],
   "source": [
    "label_data = data_cleaned[data_cleaned['numWords'] == 1]\n",
    "label_data.head()"
   ]
  },
  {
   "cell_type": "code",
   "execution_count": 10,
   "id": "794e10e3-cdd6-4ebb-8dc9-422011d009d7",
   "metadata": {},
   "outputs": [
    {
     "data": {
      "text/plain": [
       "(   index                                               link  \\\n",
       " 0   3085  https://hojishinbun.hoover.org/?a=d&d=jan19260...   \n",
       " 1   2044  https://hojishinbun.hoover.org/?a=d&d=nws19360...   \n",
       " 2   3802  https://hojishinbun.hoover.org/?a=d&d=nws19371...   \n",
       " 3   2118  https://hojishinbun.hoover.org/?a=d&d=jan19331...   \n",
       " 4   1881  https://hojishinbun.hoover.org/?a=d&d=nws19361...   \n",
       " \n",
       "                                           paragraphs  label  \n",
       " 0  SATURDAY. JUNE 5. 192 G. NO. 9553 ®ip Wxnkm Hf...  -99.0  \n",
       " 1  鏡西柯麴 I 黨 : ド聞で再 ？ 主に八 : マのンが選 2 黨含迫月スシ氏 1 全芝すの...  -99.0  \n",
       " 2  ' 甘パ如 7, N07. 5,1937 で却ちデとと約アに ： デあつビな思 ？ 齡集 ？...  -99.0  \n",
       " 3  jb 糯水 > it p 廿十 1^ 年 ， 八 1 * 胃 《 r 一 -— ■ - 社 ...  -99.0  \n",
       " 4  號六十七百四槊 桑港 ” 本商議では訪問者數の統計を記錄する一方 - 敵品 1 舰驀に訪問者...  -99.0  ,\n",
       " Index([3085, 2044, 3802, 2118, 1881, 2423,  791, 2723,  890, 2930, 2760,  790,\n",
       "         298,  219, 2587, 3067, 2538, 1412, 1585, 1132, 1308, 1547, 1759, 2738,\n",
       "        1111, 2573, 2114, 3400, 1250, 1688, 1956, 1963, 2748,  497, 2744, 1855,\n",
       "         237, 1738, 1248, 2624,  840, 1901, 1976,  138, 1174, 3074,  959,  217,\n",
       "        1850, 1971, 1583, 2101,  364,  296,  480, 2420,  358, 1451, 2537, 3606,\n",
       "         885,  702, 2436, 2770, 1683, 1546, 2742, 1866, 1084,  794,  798,  769,\n",
       "         766,  174,  343,  975, 2786, 1414, 2242,  943,  731,  733, 1349, 2367,\n",
       "        2396, 2936, 3402, 2119, 2809, 2571,  412, 1695, 1700, 2335,  756,  271,\n",
       "        1595, 2600, 2911, 1708],\n",
       "       dtype='int64'))"
      ]
     },
     "execution_count": 10,
     "metadata": {},
     "output_type": "execute_result"
    }
   ],
   "source": [
    "sample_table = label_data.sample(100, random_state = 42)\n",
    "sample_indeces = sample_table.index\n",
    "sample_table = sample_table.drop('numWords', axis = 1).reset_index() # we don't need this since we know they all only have 1 and its training data\n",
    "\n",
    "# and then since we want to make sure we can keep the \n",
    "# training data separate from the test data, we should take these data points out of the big data file, which is why we picked the random state we did\n",
    "sample_table.head(), sample_indeces"
   ]
  },
  {
   "cell_type": "code",
   "execution_count": 11,
   "id": "024da875-f242-4b3b-ad58-6804e3330671",
   "metadata": {},
   "outputs": [],
   "source": [
    "# # now to export!\n",
    "from pathlib import Path  \n",
    "filepath = Path('C:\\\\Users\\\\alica\\\\Documents\\\\URAP\\\\data\\\\training_data_sample.csv')\n",
    "filepath.parent.mkdir(parents=True, exist_ok=True)  # makes a directory for the CSV file to be written into \n",
    "sample_table.to_csv(filepath) "
   ]
  },
  {
   "cell_type": "code",
   "execution_count": null,
   "id": "0cdabc69-4060-4eb3-b796-2030a4ecb6a4",
   "metadata": {},
   "outputs": [],
   "source": []
  }
 ],
 "metadata": {
  "kernelspec": {
   "display_name": "Python 3 (ipykernel)",
   "language": "python",
   "name": "python3"
  },
  "language_info": {
   "codemirror_mode": {
    "name": "ipython",
    "version": 3
   },
   "file_extension": ".py",
   "mimetype": "text/x-python",
   "name": "python",
   "nbconvert_exporter": "python",
   "pygments_lexer": "ipython3",
   "version": "3.11.3"
  }
 },
 "nbformat": 4,
 "nbformat_minor": 5
}
