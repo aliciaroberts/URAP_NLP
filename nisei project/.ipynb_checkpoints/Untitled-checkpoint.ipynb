{
 "cells": [
  {
   "cell_type": "markdown",
   "id": "50ec78f9-1717-4abe-99f8-e5d8cb97c59c",
   "metadata": {},
   "source": [
    "# initial Training with labeled data: \n",
    "\n",
    "\n",
    "_3/13/25_ \n",
    "\n",
    "Training data is currently being labeled by Prof Leong and some others, so with that, we can begin proper training. \n"
   ]
  },
  {
   "cell_type": "code",
   "execution_count": 1,
   "id": "a6e5ba06-49d7-4ea2-b1a9-fab89d7bb9e4",
   "metadata": {},
   "outputs": [],
   "source": [
    "# libraries\n",
    "import numpy as np\n",
    "import pandas as pd\n",
    "import matplotlib.pyplot as plt\n",
    "import seaborn as sns\n",
    "\n",
    "# new things I am testing: \n"
   ]
  },
  {
   "cell_type": "code",
   "execution_count": 2,
   "id": "1febd5c6-1ec6-4e49-9f82-efffeadf0999",
   "metadata": {},
   "outputs": [
    {
     "name": "stdout",
     "output_type": "stream",
     "text": [
      "^C\n"
     ]
    }
   ],
   "source": [
    "# !pip install simpletransformers # doesn't work so try again in a different way "
   ]
  },
  {
   "cell_type": "code",
   "execution_count": null,
   "id": "ec765235-f17c-4d4d-8904-cec846a78ec7",
   "metadata": {},
   "outputs": [],
   "source": [
    "# this might not work, need to install through github i think?"
   ]
  }
 ],
 "metadata": {
  "kernelspec": {
   "display_name": "Python 3 (ipykernel)",
   "language": "python",
   "name": "python3"
  },
  "language_info": {
   "codemirror_mode": {
    "name": "ipython",
    "version": 3
   },
   "file_extension": ".py",
   "mimetype": "text/x-python",
   "name": "python",
   "nbconvert_exporter": "python",
   "pygments_lexer": "ipython3",
   "version": "3.9.13"
  }
 },
 "nbformat": 4,
 "nbformat_minor": 5
}
