{
 "cells": [
  {
   "cell_type": "markdown",
   "id": "a300caa7-fdfa-4024-8946-0a554de2db2a",
   "metadata": {},
   "source": [
    "# Data Preparation and Pre Processing \n",
    "\n",
    "_Goal: create a coherent labelled data set that can be used to train a model to recognize true occurences of 一世 as a generational term_\n",
    "\n",
    "**date started: 11/13/2024**\n",
    "\n",
    "Since I already have a data set that can be used, I think the best way to do this is to use the sentence idea: given a sentence, determine which version of issei or nisei it is.\n",
    "\n",
    "This part of it will be heavily done outside of this notebook in google sheets, which will then be imported here where I will use pandas to clean it up, and a tokenizer to break it up even more later."
   ]
  },
  {
   "cell_type": "markdown",
   "id": "f7461461-116d-4c1d-bb9e-8fb733ec5368",
   "metadata": {},
   "source": [
    "After examining the data on the URAP website, there are no true positives for Issei, but plenty of negatives, this means i should look for occurences of issei on my own - either through other media or through Hoji shinbuun. I think Hoji Shinbuun will be a good place to start"
   ]
  },
  {
   "cell_type": "code",
   "execution_count": null,
   "id": "27bb72b4-fc42-4797-a0c7-2f5443a4f502",
   "metadata": {},
   "outputs": [],
   "source": []
  }
 ],
 "metadata": {
  "kernelspec": {
   "display_name": "Python 3 (ipykernel)",
   "language": "python",
   "name": "python3"
  },
  "language_info": {
   "codemirror_mode": {
    "name": "ipython",
    "version": 3
   },
   "file_extension": ".py",
   "mimetype": "text/x-python",
   "name": "python",
   "nbconvert_exporter": "python",
   "pygments_lexer": "ipython3",
   "version": "3.9.13"
  }
 },
 "nbformat": 4,
 "nbformat_minor": 5
}
