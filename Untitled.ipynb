{
 "cells": [
  {
   "cell_type": "markdown",
   "id": "627877df-1496-4ba8-8fdc-ffabb12f09ec",
   "metadata": {},
   "source": [
    "# Prepping 二世 Data for Classifying \n",
    "_Alicia Roberts_\n",
    "\n",
    "Given data from the Hoji Shinbun Digital Archive for occurences of nisei in texts, clean the data to be ready for classifying. \n",
    "\n",
    "_goal:_ create a tokenized, shortened, cleaned string of each occurence of nisei in the text as its own data point in a data frame. \n",
    "\n",
    "input columns: link, linkWithDate, numWords, paragraphs, pdfName\n",
    "\n",
    "Given num words, this will add N-1 data points per a data point where N is the value in numWords. \n",
    "\n",
    "outputs: \n",
    "\n",
    "training matrix: training values for each data point (leave all information up to some lower limit, then perform PCA later)\n",
    "data matrix: link, year, text (not tokenized) \n",
    "\n",
    "\n",
    "\n",
    "Date started: 12/6/2024"
   ]
  },
  {
   "cell_type": "code",
   "execution_count": 1,
   "id": "1f4258e5-cdfa-4c37-9c2a-028f28a5f74e",
   "metadata": {},
   "outputs": [],
   "source": [
    "# working with the output file Ryan made:\n",
    "\n",
    "# data libraries\n",
    "import pandas as pd\n",
    "import numpy as np\n",
    "\n",
    "\n",
    "# NLP Libraries\n",
    "import re\n",
    "import fugashi\n",
    "tagger = fugashi.Tagger()\n",
    "\n",
    "\n",
    "# plotting libraries\n",
    "import matplotlib.pyplot as plt\n",
    "import seaborn as sns\n",
    "sns.set_style()\n"
   ]
  },
  {
   "cell_type": "code",
   "execution_count": 2,
   "id": "89186c17-0f66-471b-bb5c-2c0664f160f0",
   "metadata": {},
   "outputs": [],
   "source": [
    "data = pd.read_json('output.json')"
   ]
  },
  {
   "cell_type": "code",
   "execution_count": 3,
   "id": "cb4346cd-80ce-4e90-b3e9-7c0414c2ae84",
   "metadata": {},
   "outputs": [
    {
     "data": {
      "text/html": [
       "<div>\n",
       "<style scoped>\n",
       "    .dataframe tbody tr th:only-of-type {\n",
       "        vertical-align: middle;\n",
       "    }\n",
       "\n",
       "    .dataframe tbody tr th {\n",
       "        vertical-align: top;\n",
       "    }\n",
       "\n",
       "    .dataframe thead th {\n",
       "        text-align: right;\n",
       "    }\n",
       "</style>\n",
       "<table border=\"1\" class=\"dataframe\">\n",
       "  <thead>\n",
       "    <tr style=\"text-align: right;\">\n",
       "      <th></th>\n",
       "      <th>link</th>\n",
       "      <th>linkWithDate</th>\n",
       "      <th>numWords</th>\n",
       "      <th>paragraphs</th>\n",
       "      <th>pdfName</th>\n",
       "    </tr>\n",
       "  </thead>\n",
       "  <tbody>\n",
       "    <tr>\n",
       "      <th>0</th>\n",
       "      <td>https://hojishinbun.hoover.org/?a=d&amp;d=jan19360...</td>\n",
       "      <td>https://hojishinbun.hoover.org/en/newspapers/j...</td>\n",
       "      <td>5</td>\n",
       "      <td>滅念祀迎獸轚鼴罾鐮 81 帝 1 世を黏レゎそれ —№ 11 にこ # は於 &amp; しヤやニル...</td>\n",
       "      <td>jan_19360710_0019.pdf</td>\n",
       "    </tr>\n",
       "    <tr>\n",
       "      <th>1</th>\n",
       "      <td>https://hojishinbun.hoover.org/?a=d&amp;d=kam19350...</td>\n",
       "      <td>https://hojishinbun.hoover.org/en/newspapers/k...</td>\n",
       "      <td>7</td>\n",
       "      <td>「 ，！ 一 ： こ匿 - — 511. :.?-&lt;-€¢€1—\"--#118*141( -...</td>\n",
       "      <td>kam_19350811_0003.pdf</td>\n",
       "    </tr>\n",
       "    <tr>\n",
       "      <th>2</th>\n",
       "      <td>https://hojishinbun.hoover.org/?a=d&amp;d=kam19420...</td>\n",
       "      <td>https://hojishinbun.hoover.org/en/newspapers/k...</td>\n",
       "      <td>5</td>\n",
       "      <td>一世二世の失業者は ’： 一 1^ ノ至急市協へ報吿せょ一 ：1 - ”£2” 日本人救濟の...</td>\n",
       "      <td>kam_19420128_0003.pdf</td>\n",
       "    </tr>\n",
       "    <tr>\n",
       "      <th>3</th>\n",
       "      <td>https://hojishinbun.hoover.org/?a=d&amp;d=jan19410...</td>\n",
       "      <td>https://hojishinbun.hoover.org/en/newspapers/j...</td>\n",
       "      <td>6</td>\n",
       "      <td>號ニ十六百七千四万一第 當太和 3 声では開菜一一一却年 2.. ' と I て來る四 ：：...</td>\n",
       "      <td>jan_19410107_0005.pdf</td>\n",
       "    </tr>\n",
       "    <tr>\n",
       "      <th>4</th>\n",
       "      <td>https://hojishinbun.hoover.org/?a=d&amp;d=kam19350...</td>\n",
       "      <td>https://hojishinbun.hoover.org/en/newspapers/k...</td>\n",
       "      <td>2</td>\n",
       "      <td>ジブラルタルとスュズ運河 ， 藤丼整 霉とな 〇 先が ^ ブチルタル線杯か 6111 8 ...</td>\n",
       "      <td>kam_19350922_0002.pdf</td>\n",
       "    </tr>\n",
       "  </tbody>\n",
       "</table>\n",
       "</div>"
      ],
      "text/plain": [
       "                                                link  \\\n",
       "0  https://hojishinbun.hoover.org/?a=d&d=jan19360...   \n",
       "1  https://hojishinbun.hoover.org/?a=d&d=kam19350...   \n",
       "2  https://hojishinbun.hoover.org/?a=d&d=kam19420...   \n",
       "3  https://hojishinbun.hoover.org/?a=d&d=jan19410...   \n",
       "4  https://hojishinbun.hoover.org/?a=d&d=kam19350...   \n",
       "\n",
       "                                        linkWithDate  numWords  \\\n",
       "0  https://hojishinbun.hoover.org/en/newspapers/j...         5   \n",
       "1  https://hojishinbun.hoover.org/en/newspapers/k...         7   \n",
       "2  https://hojishinbun.hoover.org/en/newspapers/k...         5   \n",
       "3  https://hojishinbun.hoover.org/en/newspapers/j...         6   \n",
       "4  https://hojishinbun.hoover.org/en/newspapers/k...         2   \n",
       "\n",
       "                                          paragraphs                pdfName  \n",
       "0  滅念祀迎獸轚鼴罾鐮 81 帝 1 世を黏レゎそれ —№ 11 にこ # は於 & しヤやニル...  jan_19360710_0019.pdf  \n",
       "1  「 ，！ 一 ： こ匿 - — 511. :.?-<-€¢€1—\"--#118*141( -...  kam_19350811_0003.pdf  \n",
       "2  一世二世の失業者は ’： 一 1^ ノ至急市協へ報吿せょ一 ：1 - ”£2” 日本人救濟の...  kam_19420128_0003.pdf  \n",
       "3  號ニ十六百七千四万一第 當太和 3 声では開菜一一一却年 2.. ' と I て來る四 ：：...  jan_19410107_0005.pdf  \n",
       "4  ジブラルタルとスュズ運河 ， 藤丼整 霉とな 〇 先が ^ ブチルタル線杯か 6111 8 ...  kam_19350922_0002.pdf  "
      ]
     },
     "execution_count": 3,
     "metadata": {},
     "output_type": "execute_result"
    }
   ],
   "source": [
    "data.head()"
   ]
  },
  {
   "cell_type": "code",
   "execution_count": 4,
   "id": "d981ddc7-5e66-4c2b-9d87-1eb7093acb7a",
   "metadata": {},
   "outputs": [
    {
     "name": "stdout",
     "output_type": "stream",
     "text": [
      "<class 'pandas.core.frame.DataFrame'>\n",
      "RangeIndex: 100 entries, 0 to 99\n",
      "Data columns (total 5 columns):\n",
      " #   Column        Non-Null Count  Dtype \n",
      "---  ------        --------------  ----- \n",
      " 0   link          100 non-null    object\n",
      " 1   linkWithDate  100 non-null    object\n",
      " 2   numWords      100 non-null    int64 \n",
      " 3   paragraphs    100 non-null    object\n",
      " 4   pdfName       100 non-null    object\n",
      "dtypes: int64(1), object(4)\n",
      "memory usage: 4.0+ KB\n"
     ]
    }
   ],
   "source": [
    "data.info()"
   ]
  },
  {
   "cell_type": "code",
   "execution_count": 5,
   "id": "dcdeabf9-1ef3-40fd-b2f2-f682f20d99cb",
   "metadata": {},
   "outputs": [
    {
     "data": {
      "text/html": [
       "<div>\n",
       "<style scoped>\n",
       "    .dataframe tbody tr th:only-of-type {\n",
       "        vertical-align: middle;\n",
       "    }\n",
       "\n",
       "    .dataframe tbody tr th {\n",
       "        vertical-align: top;\n",
       "    }\n",
       "\n",
       "    .dataframe thead th {\n",
       "        text-align: right;\n",
       "    }\n",
       "</style>\n",
       "<table border=\"1\" class=\"dataframe\">\n",
       "  <thead>\n",
       "    <tr style=\"text-align: right;\">\n",
       "      <th></th>\n",
       "      <th>numWords</th>\n",
       "    </tr>\n",
       "  </thead>\n",
       "  <tbody>\n",
       "    <tr>\n",
       "      <th>count</th>\n",
       "      <td>100.000000</td>\n",
       "    </tr>\n",
       "    <tr>\n",
       "      <th>mean</th>\n",
       "      <td>3.970000</td>\n",
       "    </tr>\n",
       "    <tr>\n",
       "      <th>std</th>\n",
       "      <td>3.043307</td>\n",
       "    </tr>\n",
       "    <tr>\n",
       "      <th>min</th>\n",
       "      <td>0.000000</td>\n",
       "    </tr>\n",
       "    <tr>\n",
       "      <th>25%</th>\n",
       "      <td>2.000000</td>\n",
       "    </tr>\n",
       "    <tr>\n",
       "      <th>50%</th>\n",
       "      <td>3.000000</td>\n",
       "    </tr>\n",
       "    <tr>\n",
       "      <th>75%</th>\n",
       "      <td>5.000000</td>\n",
       "    </tr>\n",
       "    <tr>\n",
       "      <th>max</th>\n",
       "      <td>18.000000</td>\n",
       "    </tr>\n",
       "  </tbody>\n",
       "</table>\n",
       "</div>"
      ],
      "text/plain": [
       "         numWords\n",
       "count  100.000000\n",
       "mean     3.970000\n",
       "std      3.043307\n",
       "min      0.000000\n",
       "25%      2.000000\n",
       "50%      3.000000\n",
       "75%      5.000000\n",
       "max     18.000000"
      ]
     },
     "execution_count": 5,
     "metadata": {},
     "output_type": "execute_result"
    }
   ],
   "source": [
    "data.describe()"
   ]
  },
  {
   "cell_type": "markdown",
   "id": "2d33848f-5935-4f75-8e21-d7b40c8f78cb",
   "metadata": {},
   "source": [
    "It looks like there are some data points here that don't have a hit in them, so let's remove those for now"
   ]
  },
  {
   "cell_type": "code",
   "execution_count": 6,
   "id": "a1de4e79-1373-4440-bba3-90e761068822",
   "metadata": {},
   "outputs": [
    {
     "data": {
      "text/plain": [
       "numWords\n",
       "0      1\n",
       "1     14\n",
       "2     23\n",
       "3     20\n",
       "4     12\n",
       "5      8\n",
       "6      8\n",
       "7      2\n",
       "8      3\n",
       "9      1\n",
       "10     3\n",
       "11     3\n",
       "13     1\n",
       "18     1\n",
       "Name: paragraphs, dtype: int64"
      ]
     },
     "execution_count": 6,
     "metadata": {},
     "output_type": "execute_result"
    }
   ],
   "source": [
    "# figuring out how many data points I have to work with: \n",
    "\n",
    "data.groupby('numWords').count()['paragraphs']"
   ]
  },
  {
   "cell_type": "code",
   "execution_count": 7,
   "id": "4bff3ef8-de51-4abf-ac99-625fab0b4530",
   "metadata": {},
   "outputs": [
    {
     "data": {
      "image/png": "[encoded data removed]",
      "text/plain": [
       "<Figure size 640x480 with 1 Axes>"
      ]
     },
     "metadata": {},
     "output_type": "display_data"
    }
   ],
   "source": [
    "model_data = data[data['numWords'] > 0]\n",
    "\n",
    "# this removes all data points that have 0 hits, only 1 so the size of the set is not affected much\n",
    "\n",
    "sns.countplot(data = model_data, x = 'numWords')\n",
    "plt.title('Number of hits per data point')\n",
    "plt.ylabel('number of data points')\n",
    "plt.xlabel('number of hits');"
   ]
  },
  {
   "cell_type": "markdown",
   "id": "4719d261-ecc5-4c93-9d88-395217a13ecf",
   "metadata": {},
   "source": [
    "_There is one data point with no hits, but the majority of data points have somewhere from 1-4 hits._"
   ]
  },
  {
   "cell_type": "code",
   "execution_count": 8,
   "id": "bded0f70-10e8-46b1-8047-203cfef43be9",
   "metadata": {},
   "outputs": [
    {
     "data": {
      "text/plain": [
       "str"
      ]
     },
     "execution_count": 8,
     "metadata": {},
     "output_type": "execute_result"
    }
   ],
   "source": [
    "# testing the format of the texts:\n",
    "\n",
    "type(data.iloc[0]['paragraphs']) # okay cool its the type we want! Let's run the cleaning on it?"
   ]
  },
  {
   "cell_type": "code",
   "execution_count": 9,
   "id": "5283c2ad-7cdd-470d-9e85-dde7c122e3f8",
   "metadata": {},
   "outputs": [],
   "source": [
    "# sampling a random data point and getting its paragraphs (text)\n",
    "sample = data.sample(1)['paragraphs'].values[0]\n",
    "sample_nws = re.sub(pattern = ' ' , repl = '', string = sample)\n",
    "\n",
    "tokens = np.array([word.surface for word in tagger(sample)])\n",
    "tokens_nws = np.array([word.surface for word in tagger(sample_nws)])\n",
    "\n",
    "tokens_with_lemma = np.array([word.feature.lemma for word in tagger(sample)])\n",
    "tokens_with_lemma_nws = np.array([word.feature.lemma for word in tagger(sample_nws)])\n",
    "\n",
    "\n",
    "# uncomment below if you want to see a printed out version of the lemma and tokens \n",
    "# if len(tokens) == len(tokens_with_lemma) and len(tokens_nws) == len(tokens_with_lemma_nws):\n",
    "#     print('there are the same number of tokens:', (len(tokens) == len(tokens_nws)))\n",
    "#     print('there are more tokens when you remove white spaces :', (len(tokens) < len(tokens_nws)))\n",
    "#     print('tokens     \\tlemma    \\ttokens2   \\tlemma2')\n",
    "#     for i in range(min(len(tokens), len(tokens_nws))):\n",
    "#         print(tokens[i], '\\t\\t', tokens_with_lemma[i], '\\t\\t', tokens_nws[i], '\\t\\t', tokens_with_lemma_nws[i])\n",
    "        \n",
    "    \n",
    "# let's put this into a data frame: \n",
    "m = min(len(tokens), len(tokens_nws))\n",
    "columns = ['tokens','lemma','tokensNws','lemmaNws']\n",
    "\n",
    "lemma_data = pd.DataFrame(data = {'tokens':tokens[:m], 'lemma':tokens_with_lemma[:m], 'tokensNws':tokens_nws[:m],'lemmaNws':tokens_with_lemma_nws[:m]}) \n",
    "        "
   ]
  },
  {
   "cell_type": "code",
   "execution_count": 10,
   "id": "078e4af0-f2b5-4478-941b-d267b07d771c",
   "metadata": {},
   "outputs": [
    {
     "data": {
      "text/html": [
       "<div>\n",
       "<style scoped>\n",
       "    .dataframe tbody tr th:only-of-type {\n",
       "        vertical-align: middle;\n",
       "    }\n",
       "\n",
       "    .dataframe tbody tr th {\n",
       "        vertical-align: top;\n",
       "    }\n",
       "\n",
       "    .dataframe thead th {\n",
       "        text-align: right;\n",
       "    }\n",
       "</style>\n",
       "<table border=\"1\" class=\"dataframe\">\n",
       "  <thead>\n",
       "    <tr style=\"text-align: right;\">\n",
       "      <th></th>\n",
       "      <th>tokens</th>\n",
       "      <th>lemma</th>\n",
       "      <th>tokensNws</th>\n",
       "      <th>lemmaNws</th>\n",
       "    </tr>\n",
       "  </thead>\n",
       "  <tbody>\n",
       "    <tr>\n",
       "      <th>0</th>\n",
       "      <td>麵</td>\n",
       "      <td>麺</td>\n",
       "      <td>麵</td>\n",
       "      <td>麺</td>\n",
       "    </tr>\n",
       "    <tr>\n",
       "      <th>1</th>\n",
       "      <td>这十</td>\n",
       "      <td>None</td>\n",
       "      <td>这十</td>\n",
       "      <td>None</td>\n",
       "    </tr>\n",
       "    <tr>\n",
       "      <th>2</th>\n",
       "      <td>五</td>\n",
       "      <td>五</td>\n",
       "      <td>五</td>\n",
       "      <td>五</td>\n",
       "    </tr>\n",
       "    <tr>\n",
       "      <th>3</th>\n",
       "      <td>符</td>\n",
       "      <td>符</td>\n",
       "      <td>符</td>\n",
       "      <td>符</td>\n",
       "    </tr>\n",
       "    <tr>\n",
       "      <th>4</th>\n",
       "      <td>六</td>\n",
       "      <td>六</td>\n",
       "      <td>六</td>\n",
       "      <td>六</td>\n",
       "    </tr>\n",
       "    <tr>\n",
       "      <th>...</th>\n",
       "      <td>...</td>\n",
       "      <td>...</td>\n",
       "      <td>...</td>\n",
       "      <td>...</td>\n",
       "    </tr>\n",
       "    <tr>\n",
       "      <th>3531</th>\n",
       "      <td>纪後</td>\n",
       "      <td>None</td>\n",
       "      <td>贸易</td>\n",
       "      <td>None</td>\n",
       "    </tr>\n",
       "    <tr>\n",
       "      <th>3532</th>\n",
       "      <td>闩米</td>\n",
       "      <td>None</td>\n",
       "      <td>株式</td>\n",
       "      <td>株式</td>\n",
       "    </tr>\n",
       "    <tr>\n",
       "      <th>3533</th>\n",
       "      <td>111</td>\n",
       "      <td>None</td>\n",
       "      <td>甘</td>\n",
       "      <td>甘い</td>\n",
       "    </tr>\n",
       "    <tr>\n",
       "      <th>3534</th>\n",
       "      <td>斤</td>\n",
       "      <td>斤</td>\n",
       "      <td>肚</td>\n",
       "      <td>腹</td>\n",
       "    </tr>\n",
       "    <tr>\n",
       "      <th>3535</th>\n",
       "      <td>|</td>\n",
       "      <td>｜</td>\n",
       "      <td>4</td>\n",
       "      <td>None</td>\n",
       "    </tr>\n",
       "  </tbody>\n",
       "</table>\n",
       "<p>3536 rows × 4 columns</p>\n",
       "</div>"
      ],
      "text/plain": [
       "     tokens lemma tokensNws lemmaNws\n",
       "0         麵     麺         麵        麺\n",
       "1        这十  None        这十     None\n",
       "2         五     五         五        五\n",
       "3         符     符         符        符\n",
       "4         六     六         六        六\n",
       "...     ...   ...       ...      ...\n",
       "3531     纪後  None        贸易     None\n",
       "3532     闩米  None        株式       株式\n",
       "3533    111  None         甘       甘い\n",
       "3534      斤     斤         肚        腹\n",
       "3535      |     ｜         4     None\n",
       "\n",
       "[3536 rows x 4 columns]"
      ]
     },
     "execution_count": 10,
     "metadata": {},
     "output_type": "execute_result"
    }
   ],
   "source": [
    "lemma_data"
   ]
  },
  {
   "cell_type": "code",
   "execution_count": 11,
   "id": "676ad800-e20c-405e-98a7-fe525d59f58f",
   "metadata": {},
   "outputs": [],
   "source": [
    "# remove stop words, then find lemma ? can you find the lemma of tokens?"
   ]
  },
  {
   "cell_type": "code",
   "execution_count": 12,
   "id": "8f738924-16fa-4561-ad32-46bfeb9f87e9",
   "metadata": {},
   "outputs": [],
   "source": [
    "# tokens[0].feature.lemma\n"
   ]
  },
  {
   "cell_type": "markdown",
   "id": "0464f570-47fb-4e10-91e3-d84ecefdf25a",
   "metadata": {},
   "source": [
    "_If you uncomment the above cell, you will see that token objects are unable to return the lemma version, so you'll have to tokenize the string itself and get the lemma that way. The solution here is create both arrays, clean the non-lemma version, then only take the indexes from the lemma version that pass the cleaning of the non-lemma version_"
   ]
  },
  {
   "cell_type": "code",
   "execution_count": 48,
   "id": "f3053395-ee91-4268-917a-239a4a50f997",
   "metadata": {},
   "outputs": [],
   "source": [
    "# make a data frame with the target words in it: \n",
    "patterns = (['！', '!','\\?','@','#','\\$','%','\\^','&', '#', '\\d+', '[a-zA-Z]+', '〇', '「','」',\n",
    "             '-','_','№', r'\\\\','\\.','\\,','/','~','`','|','〆', \"'\", '，',\n",
    "            ':',';','\\(', '\\)','：','；' ]) # these are characters found manually through scanning raw data points\n",
    "\n",
    "stop_words_data = pd.read_csv('stopwords-ja.txt', sep = ' ', header = None) # these are known japanese stop words\n",
    "\n",
    "patterns.extend(stop_words_data[0].values)\n",
    "\n",
    "removal_characters = pd.DataFrame(data = {'character':patterns}) # put the removal characters into a data frame \n"
   ]
  },
  {
   "cell_type": "code",
   "execution_count": 46,
   "id": "de79fc9b-ebc2-49db-9a92-0a8914ad02e1",
   "metadata": {},
   "outputs": [],
   "source": [
    "# remove the visibly wrong characters: \n",
    "\n",
    "def remove_numbers(string):\n",
    "    '''literally just remove all numbers from a string, we don't want them'''\n",
    "    cleaned = re.sub(pattern = '\\d+', repl = '', string = string)\n",
    "    return cleaned\n",
    "\n",
    "def remove_special_characters(string):\n",
    "    cleaned = string[:] # makes a copy -- don't overwrite the original!\n",
    "    patterns = removal_characters['character'].values\n",
    "    for pat in patterns:\n",
    "        cleaned = re.sub(pattern = pat, repl = '', string = cleaned)\n",
    "    return cleaned"
   ]
  },
  {
   "cell_type": "code",
   "execution_count": 47,
   "id": "a0236d27-287a-4ae1-8217-10e719f30070",
   "metadata": {},
   "outputs": [
    {
     "data": {
      "text/plain": [
       "'滅念祀迎獸轚鼴罾鐮  帝  世黏レゎ —  こ  於  ヤニル    怒  ざ  牝把  あ  蕾  膽一  十  萬ミ  る 、 内  世六萬  二世七錢  ぃ体 “       叱  六纪  傭 '"
      ]
     },
     "execution_count": 47,
     "metadata": {},
     "output_type": "execute_result"
    }
   ],
   "source": [
    "sample_0 = data.iloc[0]['paragraphs']\n",
    "\n",
    "remove_special_characters(sample_0)[0:100] # just to see a sample "
   ]
  },
  {
   "cell_type": "markdown",
   "id": "623376a9-b990-4bd8-9f71-bb398c175cf7",
   "metadata": {},
   "source": [
    "_This looks good for now! (clean enough at least) let's extend this to all the arrays and get analyzing_"
   ]
  },
  {
   "cell_type": "code",
   "execution_count": null,
   "id": "2c91432d-cb25-455c-9b4d-bd7c9eae58bc",
   "metadata": {},
   "outputs": [],
   "source": [
    "# cleaning all arrays\n",
    "tok= model_data['paragraphs'].apply(remove_special_characters).values\n",
    "\n",
    "new_col = {'cleanText': tok}\n",
    "\n",
    "model_data = model_data.assign(**new_col)"
   ]
  },
  {
   "cell_type": "code",
   "execution_count": null,
   "id": "9f0f6d20-79fb-4494-96fa-544a0d0f43fd",
   "metadata": {},
   "outputs": [],
   "source": [
    "model_data.head()"
   ]
  },
  {
   "cell_type": "markdown",
   "id": "2377900b-803f-4c81-8fc5-05eeb94eae22",
   "metadata": {},
   "source": [
    "**Note that you can add more special characters to remove later to the patterns array and it should work fine**"
   ]
  },
  {
   "cell_type": "code",
   "execution_count": null,
   "id": "1f9b0d97-8dbf-4140-ac4e-5733f01db946",
   "metadata": {},
   "outputs": [],
   "source": [
    "# reduce the size of the matrix to be nearest neighbors to the hit\n",
    "\n",
    "\n",
    "def make_hit_arrays(string, hit, r):\n",
    "    '''return a shortened version of STRING that is centered around HIT with N characters on each side of it\n",
    "    STRING: any string\n",
    "    HIT: any word\n",
    "    returns:\n",
    "    STRING wihout HIT, N: any positive integer that is the location of HIT in STRING. will return the first occurence of the first character of HIT'''\n",
    "    ns = [] # this means there is no occurence of HIT if empty\n",
    "    hit_strings = []\n",
    "    \n",
    "    if (hit in string): # first see that HIT is actually in STRING to avoid errors\n",
    "        size_hit = len(hit) # how many characters to examine at once \n",
    "        \n",
    "        for n in range(len(string) - size_hit): # itterate through STRING until you reach HIT\n",
    "            \n",
    "            if string[n:n+size_hit] == hit: # iterating till we reach HIT\n",
    "                ns.append(n)\n",
    "                hit_strings.append(string[max(0,n - r): min(n + r, len(string))])\n",
    "    return hit_strings\n",
    "    \n"
   ]
  },
  {
   "cell_type": "code",
   "execution_count": null,
   "id": "d2bdaacf-24a0-4b28-ba5d-767be4849c01",
   "metadata": {},
   "outputs": [],
   "source": [
    "# testing: and it works!\n",
    "make_hit_arrays(sample_0, hit = '二世', r = 10)"
   ]
  },
  {
   "cell_type": "code",
   "execution_count": null,
   "id": "9ea6c8d0-e01b-4ca4-9731-729fab7fdd7c",
   "metadata": {},
   "outputs": [],
   "source": [
    "# adding the hits to a new data set to make more data points: \n",
    "\n",
    "hit = '二世'\n",
    "r = 5\n",
    "\n",
    "new_data_points = [] # append this then make an array\n",
    "for s in model_data['cleanText'].values:\n",
    "    new_strings = make_hit_arrays(s, hit = '二世', r = 10)\n",
    "    new_data_points.extend(new_strings)\n",
    "\n",
    "feature_data = pd.DataFrame(data = {'text': new_data_points})# the final data frame with cleaned arrays with hits at the cetner \n",
    "\n",
    "feature_data"
   ]
  },
  {
   "cell_type": "code",
   "execution_count": null,
   "id": "becdb295-56f8-4372-ad46-e6ead8c51508",
   "metadata": {},
   "outputs": [],
   "source": [
    "# now remove the hit: \n",
    "\n",
    "def remove_hit(string, hit):\n",
    "    if (hit in string): # first see that HIT is actually in STRING to avoid errors\n",
    "        size_hit = len(hit) # how many characters to examine at once \n",
    "\n",
    "    for n in range(len(string) - size_hit): # itterate through STRING until you reach HIT\n",
    "        if string[n:n+size_hit] == hit: # iterating till we reach HIT\n",
    "            mod_string = string[0:n] + string[n+size_hit:] # create a modified string without HIT\n",
    "    return mod_string\n",
    "\n",
    "# test\n",
    "remove_hit(feature_data.iloc[0]['text'], hit = hit)"
   ]
  },
  {
   "cell_type": "code",
   "execution_count": null,
   "id": "a31bf47c-cf57-478d-9307-a739f351d0b7",
   "metadata": {},
   "outputs": [],
   "source": [
    "# now cleaning again to get no hit in the string: \n",
    "\n",
    "no_hits = feature_data['text'].apply(remove_hit, hit = hit)\n",
    "\n",
    "feature_data = feature_data.assign(**{'noHit':no_hits})"
   ]
  },
  {
   "cell_type": "code",
   "execution_count": null,
   "id": "e787a524-d174-49b7-b7f6-de82c82968b5",
   "metadata": {},
   "outputs": [],
   "source": [
    "# now lets see how tokenizing goes: \n",
    "\n",
    "def tokenize(string):\n",
    "    '''given a string STRING, return the tokens in lemma form in the form of a numpy array'''\n",
    "    tokens = np.array([word.surface for word in tagger(string)]) # store the raw tokens of each token\n",
    "    return tokens\n",
    "\n",
    "def lemmize(string):\n",
    "    lemma = np.array([word.feature.lemma for word in tagger(string)]) # store the lemma \n",
    "    return lemma"
   ]
  },
  {
   "cell_type": "code",
   "execution_count": null,
   "id": "b0900562-185a-481e-8238-38fb83317f95",
   "metadata": {},
   "outputs": [],
   "source": [
    "tok, lem = feature_data['noHit'].apply(tokenize), feature_data['noHit'].apply(lemmize)"
   ]
  },
  {
   "cell_type": "code",
   "execution_count": null,
   "id": "54d1c9ac-d477-4c28-9360-e32e72854be9",
   "metadata": {},
   "outputs": [],
   "source": [
    "new_cols = {'tokens': tok, 'lemma': lem}\n",
    "\n",
    "feature_data = feature_data.assign(**new_cols)\n",
    "\n",
    "feature_data.head()"
   ]
  },
  {
   "cell_type": "code",
   "execution_count": null,
   "id": "9ccdcfb6-fff6-4bf1-8c7b-0431504bf3d9",
   "metadata": {},
   "outputs": [],
   "source": [
    "# nones are no good, so lets keep tokens for now and hope for the best: \n",
    "\n",
    "feature_data = feature_data[['tokens']]\n"
   ]
  },
  {
   "cell_type": "code",
   "execution_count": null,
   "id": "7c842783-df39-4f69-ae10-9db6213399a1",
   "metadata": {},
   "outputs": [],
   "source": [
    "feature_data"
   ]
  },
  {
   "cell_type": "code",
   "execution_count": null,
   "id": "d0e5bb42-c6bf-4b0b-a054-b6d4d567ac02",
   "metadata": {},
   "outputs": [],
   "source": [
    "# now let's find all the unique tokens\n",
    "\n",
    "unique_tokens = []\n",
    "token_counts = {} # empty dictionary \n",
    "for tokens in feature_data['tokens']:\n",
    "    for tok in tokens:\n",
    "        if tok not in unique_tokens: \n",
    "            unique_tokens.append(tok)\n",
    "            token_counts[tok] = 1\n",
    "        else:\n",
    "            token_counts[tok] +=1\n",
    "            \n",
    "\n",
    "len(unique_tokens), token_counts.values() "
   ]
  },
  {
   "cell_type": "markdown",
   "id": "440aaca1-c41d-49cc-a586-6024f6dd7f50",
   "metadata": {},
   "source": [
    "_seems only a select tokens appear more than once, so let's shorten this dictionary_"
   ]
  },
  {
   "cell_type": "code",
   "execution_count": null,
   "id": "31c836db-91cd-4cf8-a9bb-176b2d12d4c4",
   "metadata": {},
   "outputs": [],
   "source": []
  },
  {
   "cell_type": "code",
   "execution_count": null,
   "id": "f11084da-b467-410c-9aca-c752460ee698",
   "metadata": {},
   "outputs": [],
   "source": [
    "tokens = pd.DataFrame(index = np.arange(len(unique_tokens)),data = token_counts)"
   ]
  },
  {
   "cell_type": "code",
   "execution_count": null,
   "id": "cb3191a0-a2ae-42ab-9836-b70affd37f55",
   "metadata": {},
   "outputs": [],
   "source": [
    "tokens.head()"
   ]
  },
  {
   "cell_type": "code",
   "execution_count": null,
   "id": "ad106fe6-1342-423d-852b-bc165ac0ca6a",
   "metadata": {},
   "outputs": [],
   "source": []
  }
 ],
 "metadata": {
  "kernelspec": {
   "display_name": "Python 3 (ipykernel)",
   "language": "python",
   "name": "python3"
  },
  "language_info": {
   "codemirror_mode": {
    "name": "ipython",
    "version": 3
   },
   "file_extension": ".py",
   "mimetype": "text/x-python",
   "name": "python",
   "nbconvert_exporter": "python",
   "pygments_lexer": "ipython3",
   "version": "3.9.13"
  }
 },
 "nbformat": 4,
 "nbformat_minor": 5
}
