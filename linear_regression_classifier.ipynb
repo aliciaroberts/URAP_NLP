{
 "cells": [
  {
   "cell_type": "markdown",
   "id": "cc48b50b-c499-4aa8-b862-93bdfb2a696f",
   "metadata": {},
   "source": [
    "## Baby's First NLP Model\n",
    "\n",
    "**Start Date: 11/13/2024**\n",
    "\n",
    "Alicia Roberts\n",
    "\n",
    "\n",
    "_this is inspired by the spam-ham lab from data 100 that I completed last semester: using a bunch of text entries that have been labeled a spam email or a ham email, predict if an unlabeled email is either spam or ham after training a model. I think this will be a good start to this project as it is of very similar structure but instead of classifying emails, we are classifying if the occurences of 一世と二世　are true occurences or incorrect occurences for generational terms_\n",
    "\n",
    "\n",
    "**Thinking:** this model will be trained on a certain phrase or set of phrases and if you plug in a text, it will look for that word or phrase and tell you if it is in the context that you want it to be. For Sora's project, I think implementing a sentiment analysis would be really cool, but might be too difficult in practice with the current resources we have."
   ]
  },
  {
   "cell_type": "code",
   "execution_count": 4,
   "id": "9e4484e8-6c73-4928-9da4-607c3fdcc38e",
   "metadata": {},
   "outputs": [],
   "source": [
    "# importing libraries\n",
    "\n",
    "import numpy as np\n",
    "import pandas as pd\n",
    "\n",
    "import matplotlib.pyplot as plt\n",
    "%matplotlib inline\n",
    "\n",
    "import seaborn as sns\n",
    "sns.set(style = \"whitegrid\", \n",
    "        color_codes = True,\n",
    "        font_scale = 1.5)\n",
    "\n",
    "\n",
    "# add Japanese language processing here \n",
    "\n"
   ]
  },
  {
   "cell_type": "code",
   "execution_count": 11,
   "id": "205f51bd-e87a-4633-af12-6be2ba155851",
   "metadata": {},
   "outputs": [
    {
     "data": {
      "text/html": [
       "<div>\n",
       "<style scoped>\n",
       "    .dataframe tbody tr th:only-of-type {\n",
       "        vertical-align: middle;\n",
       "    }\n",
       "\n",
       "    .dataframe tbody tr th {\n",
       "        vertical-align: top;\n",
       "    }\n",
       "\n",
       "    .dataframe thead th {\n",
       "        text-align: right;\n",
       "    }\n",
       "</style>\n",
       "<table border=\"1\" class=\"dataframe\">\n",
       "  <thead>\n",
       "    <tr style=\"text-align: right;\">\n",
       "      <th></th>\n",
       "      <th>article link</th>\n",
       "      <th>Date</th>\n",
       "      <th>classification</th>\n",
       "      <th>text</th>\n",
       "      <th>comments</th>\n",
       "    </tr>\n",
       "  </thead>\n",
       "  <tbody>\n",
       "    <tr>\n",
       "      <th>0</th>\n",
       "      <td>https://hojishinbun.hoover.org/en/newspapers/n...</td>\n",
       "      <td>1940/02/16</td>\n",
       "      <td>1</td>\n",
       "      <td>會员大募集運動市協活動準備第一世諸氏の援助協力を希望</td>\n",
       "      <td>seems good to me, is using it as a generationa...</td>\n",
       "    </tr>\n",
       "    <tr>\n",
       "      <th>1</th>\n",
       "      <td>https://hojishinbun.hoover.org/en/newspapers/k...</td>\n",
       "      <td>1940/10/06</td>\n",
       "      <td>1</td>\n",
       "      <td>一世行進曲 | ’ ，， 常石芝靑作</td>\n",
       "      <td>needs to be verified, but seems related to poe...</td>\n",
       "    </tr>\n",
       "    <tr>\n",
       "      <th>2</th>\n",
       "      <td>https://hojishinbun.hoover.org/en/newspapers/k...</td>\n",
       "      <td>1940/10/18</td>\n",
       "      <td>-1</td>\n",
       "      <td>1 二世も - 一一世 ^^ 心せょ \" 米國鄉軍は顔る公平ね 0-</td>\n",
       "      <td>OCR read 二 as 一一 resulting in 二世 looking like ...</td>\n",
       "    </tr>\n",
       "    <tr>\n",
       "      <th>3</th>\n",
       "      <td>https://hojishinbun.hoover.org/en/newspapers/k...</td>\n",
       "      <td>1940/10/18</td>\n",
       "      <td>1</td>\n",
       "      <td>しズ 0 t 家 * に纖されねぱな -^ a* 今や 19 始時代から永らく奮 H を續け...</td>\n",
       "      <td>NaN</td>\n",
       "    </tr>\n",
       "    <tr>\n",
       "      <th>4</th>\n",
       "      <td>https://hojishinbun.hoover.org/en/newspapers/k...</td>\n",
       "      <td>1940/10/18</td>\n",
       "      <td>1</td>\n",
       "      <td>此第一世の遺</td>\n",
       "      <td>\"this first generation's legacy\"</td>\n",
       "    </tr>\n",
       "  </tbody>\n",
       "</table>\n",
       "</div>"
      ],
      "text/plain": [
       "                                        article link        Date  \\\n",
       "0  https://hojishinbun.hoover.org/en/newspapers/n...  1940/02/16   \n",
       "1  https://hojishinbun.hoover.org/en/newspapers/k...  1940/10/06   \n",
       "2  https://hojishinbun.hoover.org/en/newspapers/k...  1940/10/18   \n",
       "3  https://hojishinbun.hoover.org/en/newspapers/k...  1940/10/18   \n",
       "4  https://hojishinbun.hoover.org/en/newspapers/k...  1940/10/18   \n",
       "\n",
       "   classification                                               text  \\\n",
       "0               1                         會员大募集運動市協活動準備第一世諸氏の援助協力を希望   \n",
       "1               1                                 一世行進曲 | ’ ，， 常石芝靑作   \n",
       "2              -1                 1 二世も - 一一世 ^^ 心せょ \" 米國鄉軍は顔る公平ね 0-   \n",
       "3               1  しズ 0 t 家 * に纖されねぱな -^ a* 今や 19 始時代から永らく奮 H を續け...   \n",
       "4               1                                             此第一世の遺   \n",
       "\n",
       "                                            comments  \n",
       "0  seems good to me, is using it as a generationa...  \n",
       "1  needs to be verified, but seems related to poe...  \n",
       "2  OCR read 二 as 一一 resulting in 二世 looking like ...  \n",
       "3                                                NaN  \n",
       "4                   \"this first generation's legacy\"  "
      ]
     },
     "execution_count": 11,
     "metadata": {},
     "output_type": "execute_result"
    }
   ],
   "source": [
    "# importing data: \n",
    "issei_data = pd.read_csv('issei_training_data - Sheet1.csv')\n",
    "# the entire labelled data set: \n",
    "\n",
    "\n",
    "\n",
    "# describe it: \n",
    "issei_data.head()\n",
    "\n",
    "# okay, so every hit needs a link, not just the top one: Alicia don't be lazy"
   ]
  },
  {
   "cell_type": "code",
   "execution_count": 31,
   "id": "8311125f-6346-4055-b515-2859b5516b75",
   "metadata": {},
   "outputs": [
    {
     "data": {
      "text/plain": [
       "<AxesSubplot:xlabel='classification', ylabel='Count'>"
      ]
     },
     "execution_count": 31,
     "metadata": {},
     "output_type": "execute_result"
    },
    {
     "data": {
      "image/png": "[encoded data removed]",
      "text/plain": [
       "<Figure size 640x480 with 1 Axes>"
      ]
     },
     "metadata": {},
     "output_type": "display_data"
    }
   ],
   "source": [
    "# now clean it and split it into training, test, and validation\n",
    "\n",
    "sns.histplot(data = issei_data, x = 'classification')"
   ]
  },
  {
   "cell_type": "code",
   "execution_count": null,
   "id": "585ddd59-624f-42ac-9a47-858670a0bdad",
   "metadata": {},
   "outputs": [],
   "source": []
  }
 ],
 "metadata": {
  "kernelspec": {
   "display_name": "Python 3 (ipykernel)",
   "language": "python",
   "name": "python3"
  },
  "language_info": {
   "codemirror_mode": {
    "name": "ipython",
    "version": 3
   },
   "file_extension": ".py",
   "mimetype": "text/x-python",
   "name": "python",
   "nbconvert_exporter": "python",
   "pygments_lexer": "ipython3",
   "version": "3.9.13"
  }
 },
 "nbformat": 4,
 "nbformat_minor": 5
}
