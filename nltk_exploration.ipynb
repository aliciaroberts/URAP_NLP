{
 "cells": [
  {
   "cell_type": "markdown",
   "id": "2b0cec33-74c8-42dc-b52d-9b244f2c0563",
   "metadata": {},
   "source": [
    "# NLTK Exploration \n",
    "\n",
    "**start date: 11/13/2024**\n",
    "\n",
    "_the aim: test the limitations of NLTK in Japanese data analysis. Want to see its ability to tokenize: characters, words, phrases, sentences. And its ability to actually process and make meaningful conclusions_"
   ]
  },
  {
   "cell_type": "code",
   "execution_count": 12,
   "id": "ef1d9cc0-b88a-4fab-97ce-d6a64800b516",
   "metadata": {},
   "outputs": [
    {
     "name": "stderr",
     "output_type": "stream",
     "text": [
      "[nltk_data] Downloading package knbc to\n",
      "[nltk_data]     C:\\Users\\alica\\AppData\\Roaming\\nltk_data...\n",
      "[nltk_data]   Package knbc is already up-to-date!\n"
     ]
    }
   ],
   "source": [
    "# import nltk and other libraries that could be useful \n",
    "\n",
    "from nltk import *\n",
    "\n",
    "nltk.download('knbc')\n",
    "from nltk.corpus import knbc\n",
    "\n",
    "\n",
    "# other libraries: \n",
    "\n",
    "import numpy as np"
   ]
  },
  {
   "cell_type": "code",
   "execution_count": 21,
   "id": "117921b2-6388-459f-a017-a31795be4213",
   "metadata": {},
   "outputs": [
    {
     "data": {
      "text/plain": [
       "array(True)"
      ]
     },
     "execution_count": 21,
     "metadata": {},
     "output_type": "execute_result"
    }
   ],
   "source": [
    "# testing a word I know is in knbc.words to see if it can scan with numpy\n",
    "\n",
    "np.isin('カード',np.array(knbc.words()))"
   ]
  },
  {
   "cell_type": "code",
   "execution_count": 22,
   "id": "eeb4be6a-b604-4b0c-ba3b-f96882c2cc02",
   "metadata": {},
   "outputs": [
    {
     "data": {
      "text/plain": [
       "array(False)"
      ]
     },
     "execution_count": 22,
     "metadata": {},
     "output_type": "execute_result"
    }
   ],
   "source": [
    "# okay so far so good, let's see if 一世 is in here: \n",
    "\n",
    "np.isin('一世', np.array(knbc.words()))"
   ]
  },
  {
   "cell_type": "code",
   "execution_count": 24,
   "id": "1b59fe46-ef5e-4551-b2a7-a11a870da640",
   "metadata": {},
   "outputs": [
    {
     "data": {
      "text/plain": [
       "array(False)"
      ]
     },
     "execution_count": 24,
     "metadata": {},
     "output_type": "execute_result"
    }
   ],
   "source": [
    "# ouch, well I'll have to add it ig! \n",
    "# is the hiragana version in here? \n",
    "\n",
    "np.isin('いっせい', np.array(knbc.words()))"
   ]
  },
  {
   "cell_type": "code",
   "execution_count": 26,
   "id": "80274b4a-44e6-417d-8722-d2c3195f21ca",
   "metadata": {},
   "outputs": [
    {
     "data": {
      "text/plain": [
       "array([ True,  True])"
      ]
     },
     "execution_count": 26,
     "metadata": {},
     "output_type": "execute_result"
    }
   ],
   "source": [
    "# are the unique characters in the data set?\n",
    "\n",
    "np.isin(['一', '世'], np.array(knbc.words()))"
   ]
  },
  {
   "cell_type": "code",
   "execution_count": 27,
   "id": "4d1c34e2-9831-4a4d-9617-19390466a09d",
   "metadata": {},
   "outputs": [],
   "source": [
    "# okayyy, well what are the lengths of these different objects then?\n",
    "# is there a difference between words of many characters or not?\n",
    "\n"
   ]
  },
  {
   "cell_type": "code",
   "execution_count": 31,
   "id": "fb9a99a5-195a-46f8-bf38-65954481fafb",
   "metadata": {},
   "outputs": [
    {
     "data": {
      "text/plain": [
       "['［', '携帯', '電話', '］', 'プリペイド', 'カード', '携帯', '布教', '。']"
      ]
     },
     "execution_count": 31,
     "metadata": {},
     "output_type": "execute_result"
    }
   ],
   "source": [
    "# there are also sentences: \n",
    "\n",
    "knbc.sents()[0]"
   ]
  },
  {
   "cell_type": "code",
   "execution_count": 32,
   "id": "1ee90607-93df-4440-b281-ad1248b50271",
   "metadata": {},
   "outputs": [],
   "source": [
    "# huh, notice how the words are just the sentences broken up? \n",
    "# Like the exact same order? \n",
    "# is that bracket supposed to be like the notation of some sort of stop or???"
   ]
  },
  {
   "cell_type": "code",
   "execution_count": 33,
   "id": "79bcd692-2914-4b70-b0f5-e6d75009015b",
   "metadata": {},
   "outputs": [
    {
     "data": {
      "text/plain": [
       "('［',\n",
       " '［ ［ 特殊 1 括弧始 3 * 0 * 0 NIL <文頭><記英数カ><英記号><記号><括弧始><括弧><接頭><非独立接頭辞><タグ単位始><文節始>')"
      ]
     },
     "execution_count": 33,
     "metadata": {},
     "output_type": "execute_result"
    }
   ],
   "source": [
    "# tagged words: (idk what this is exactly)\n",
    "\n",
    "knbc.tagged_words()[0]"
   ]
  },
  {
   "cell_type": "code",
   "execution_count": 34,
   "id": "2b0057f1-f325-4271-bc62-cedfdaf62bd9",
   "metadata": {},
   "outputs": [],
   "source": [
    "# ohh, its words that are similiar to eachother it seems"
   ]
  },
  {
   "cell_type": "code",
   "execution_count": 36,
   "id": "e211f74c-b615-4f7c-82f3-c7b663a8bd7d",
   "metadata": {},
   "outputs": [
    {
     "data": {
      "text/plain": [
       "[('［',\n",
       "  '［ ［ 特殊 1 括弧始 3 * 0 * 0 NIL <文頭><記英数カ><英記号><記号><括弧始><括弧><接頭><非独立接頭辞><タグ単位始><文節始>'),\n",
       " ('携帯',\n",
       "  'けいたい 携帯 名詞 6 サ変名詞 2 * 0 * 0 \"カテゴリ:人工物-その他:抽象物 ドメイン:家庭・暮らし 代表表記:携帯/けいたい\" <カテゴリ:人工物-その他:抽象物><ドメイン:家庭・暮らし><代表表記:携帯/けいたい><正規化代表表記:携帯/けいたい><漢字><かな漢字><名詞相当語><サ変><自立><内容語><意味有>'),\n",
       " ('電話',\n",
       "  'でんわ 電話 名詞 6 サ変名詞 2 * 0 * 0 \"補文ト カテゴリ:人工物-その他 ドメイン:家庭・暮らし 代表表記:電話/でんわ\" <補文ト><カテゴリ:人工物-その他><ドメイン:家庭・暮らし><代表表記:電話/でんわ><正規化代表表記:電話/でんわ><漢字><かな漢字><名詞相当語><サ変><自立><複合←><内容語><意味有><タグ単位始>'),\n",
       " ('］', '］ ］ 特殊 1 括弧終 4 * 0 * 0 NIL <記英数カ><英記号><記号><括弧終><括弧><述語区切><付属><複合←>'),\n",
       " ('プリペイド',\n",
       "  'ぷりぺいど プリペイド 名詞 6 普通名詞 1 * 0 * 0 \"疑似代表表記 代表表記:プリペイドカード/プリペイドカード\" <疑似代表表記><代表表記:プリペイドカード/プリペイドカード><正規化代表表記:プリペイドカード/プリペイドカード><品詞変更:プリペイドカード-プリペイドカード-プリペイドカード-15-2-0-0-\"疑似代表表記 代表表記:プリペイドカード/プリペイドカード\"><品曖-カタカナ><未知語><記英数カ><カタカナ><名詞相当語><サ変><自立><複合←><内容語><意味有><タグ単位始><固有キー>'),\n",
       " ('カード',\n",
       "  'かーど カード 名詞 6 普通名詞 1 * 0 * 0 \"疑似代表表記 代表表記:プリペイドカード/プリペイドカード\" <疑似代表表記><代表表記:プリペイドカード/プリペイドカード><正規化代表表記:プリペイドカード/プリペイドカード><品詞変更:プリペイドカード-プリペイドカード-プリペイドカード-15-2-0-0-\"疑似代表表記 代表表記:プリペイドカード/プリペイドカード\"><品曖-カタカナ><未知語><記英数カ><カタカナ><名詞相当語><サ変><自立><複合←><内容語><意味有><タグ単位始><固有キー>'),\n",
       " ('携帯',\n",
       "  'けいたい 携帯 名詞 6 サ変名詞 2 * 0 * 0 \"カテゴリ:人工物-その他:抽象物 ドメイン:家庭・暮らし 代表表記:携帯/けいたい\" <カテゴリ:人工物-その他:抽象物><ドメイン:家庭・暮らし><代表表記:携帯/けいたい><正規化代表表記:携帯/けいたい><漢字><かな漢字><名詞相当語><サ変><自立><複合←><内容語><意味有><タグ単位始>'),\n",
       " ('布教',\n",
       "  'ふきょう 布教 名詞 6 サ変名詞 2 * 0 * 0 \"カテゴリ:抽象物 ドメイン:文化・芸術 代表表記:布教/ふきょう\" <カテゴリ:抽象物><ドメイン:文化・芸術><代表表記:布教/ふきょう><正規化代表表記:布教/ふきょう><表現文末><漢字><かな漢字><名詞相当語><サ変><サ変動詞><自立><複合←><内容語><意味有><タグ単位始><文節主辞>'),\n",
       " ('。', '。 。 特殊 1 句点 1 * 0 * 0 NIL <文末><英記号><記号><付属>')]"
      ]
     },
     "execution_count": 36,
     "metadata": {},
     "output_type": "execute_result"
    }
   ],
   "source": [
    "knbc.tagged_sents()[0]"
   ]
  },
  {
   "cell_type": "code",
   "execution_count": null,
   "id": "dd2839e3-7071-4716-8d0c-ef6cdf6ff333",
   "metadata": {},
   "outputs": [],
   "source": [
    "# seems like its working, but I don't know if we're cooking quite yet . . . "
   ]
  }
 ],
 "metadata": {
  "kernelspec": {
   "display_name": "Python 3 (ipykernel)",
   "language": "python",
   "name": "python3"
  },
  "language_info": {
   "codemirror_mode": {
    "name": "ipython",
    "version": 3
   },
   "file_extension": ".py",
   "mimetype": "text/x-python",
   "name": "python",
   "nbconvert_exporter": "python",
   "pygments_lexer": "ipython3",
   "version": "3.9.13"
  }
 },
 "nbformat": 4,
 "nbformat_minor": 5
}
