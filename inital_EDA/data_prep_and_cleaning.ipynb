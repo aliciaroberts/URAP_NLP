{
 "cells": [
  {
   "cell_type": "markdown",
   "id": "a300caa7-fdfa-4024-8946-0a554de2db2a",
   "metadata": {},
   "source": [
    "# Data Preparation and Pre Processing \n",
    "\n",
    "_Goal: create a coherent labelled data set that can be used to train a model to recognize true occurences of 一世 as a generational term_\n",
    "\n",
    "**date started: 11/13/2024**\n",
    "\n",
    "Since I already have a data set that can be used, I think the best way to do this is to use the sentence idea: given a sentence, determine which version of issei or nisei it is.\n",
    "\n",
    "This part of it will be heavily done outside of this notebook in google sheets, which will then be imported here where I will use pandas to clean it up, and a tokenizer to break it up even more later."
   ]
  },
  {
   "cell_type": "markdown",
   "id": "f7461461-116d-4c1d-bb9e-8fb733ec5368",
   "metadata": {},
   "source": [
    "After examining the data on the URAP website, there are no true positives for Issei, but plenty of negatives, this means i should look for occurences of issei on my own - either through other media or through Hoji shinbuun. I think Hoji Shinbuun will be a good place to start"
   ]
  },
  {
   "cell_type": "code",
   "execution_count": 2,
   "id": "27bb72b4-fc42-4797-a0c7-2f5443a4f502",
   "metadata": {},
   "outputs": [],
   "source": [
    "# libraries and such\n",
    "\n",
    "import pandas as pd\n",
    "import re\n",
    "import numpy as np\n",
    "\n",
    "\n",
    "# plotting\n",
    "import matplotlib.pyplot as plt\n",
    "%matplotlib inline\n",
    "\n",
    "import seaborn as sns\n",
    "sns.set(style = \"whitegrid\", \n",
    "        color_codes = True,\n",
    "        font_scale = 1.5)"
   ]
  },
  {
   "cell_type": "code",
   "execution_count": 3,
   "id": "53c9fccf-9277-4f68-a323-c888ba063324",
   "metadata": {},
   "outputs": [
    {
     "data": {
      "text/html": [
       "<div>\n",
       "<style scoped>\n",
       "    .dataframe tbody tr th:only-of-type {\n",
       "        vertical-align: middle;\n",
       "    }\n",
       "\n",
       "    .dataframe tbody tr th {\n",
       "        vertical-align: top;\n",
       "    }\n",
       "\n",
       "    .dataframe thead th {\n",
       "        text-align: right;\n",
       "    }\n",
       "</style>\n",
       "<table border=\"1\" class=\"dataframe\">\n",
       "  <thead>\n",
       "    <tr style=\"text-align: right;\">\n",
       "      <th></th>\n",
       "      <th>article link</th>\n",
       "      <th>Date</th>\n",
       "      <th>classification</th>\n",
       "      <th>text</th>\n",
       "      <th>comments</th>\n",
       "    </tr>\n",
       "  </thead>\n",
       "  <tbody>\n",
       "    <tr>\n",
       "      <th>0</th>\n",
       "      <td>https://hojishinbun.hoover.org/en/newspapers/n...</td>\n",
       "      <td>1940/02/16</td>\n",
       "      <td>1</td>\n",
       "      <td>會员大募集運動市協活動準備第一世諸氏の援助協力を希望</td>\n",
       "      <td>seems good to me, is using it as a generationa...</td>\n",
       "    </tr>\n",
       "    <tr>\n",
       "      <th>1</th>\n",
       "      <td>https://hojishinbun.hoover.org/en/newspapers/k...</td>\n",
       "      <td>1940/10/06</td>\n",
       "      <td>1</td>\n",
       "      <td>一世行進曲 | ’ ，， 常石芝靑作</td>\n",
       "      <td>needs to be verified, but seems related to poe...</td>\n",
       "    </tr>\n",
       "    <tr>\n",
       "      <th>2</th>\n",
       "      <td>https://hojishinbun.hoover.org/en/newspapers/k...</td>\n",
       "      <td>1940/10/18</td>\n",
       "      <td>-1</td>\n",
       "      <td>1 二世も - 一一世 ^^ 心せょ \" 米國鄉軍は顔る公平ね 0-</td>\n",
       "      <td>OCR read 二 as 一一 resulting in 二世 looking like ...</td>\n",
       "    </tr>\n",
       "    <tr>\n",
       "      <th>3</th>\n",
       "      <td>https://hojishinbun.hoover.org/en/newspapers/k...</td>\n",
       "      <td>1940/10/18</td>\n",
       "      <td>1</td>\n",
       "      <td>しズ 0 t 家 * に纖されねぱな -^ a* 今や 19 始時代から永らく奮 H を續け...</td>\n",
       "      <td>NaN</td>\n",
       "    </tr>\n",
       "    <tr>\n",
       "      <th>4</th>\n",
       "      <td>https://hojishinbun.hoover.org/en/newspapers/k...</td>\n",
       "      <td>1940/10/18</td>\n",
       "      <td>1</td>\n",
       "      <td>此第一世の遺</td>\n",
       "      <td>\"this first generation's legacy\"</td>\n",
       "    </tr>\n",
       "  </tbody>\n",
       "</table>\n",
       "</div>"
      ],
      "text/plain": [
       "                                        article link        Date  \\\n",
       "0  https://hojishinbun.hoover.org/en/newspapers/n...  1940/02/16   \n",
       "1  https://hojishinbun.hoover.org/en/newspapers/k...  1940/10/06   \n",
       "2  https://hojishinbun.hoover.org/en/newspapers/k...  1940/10/18   \n",
       "3  https://hojishinbun.hoover.org/en/newspapers/k...  1940/10/18   \n",
       "4  https://hojishinbun.hoover.org/en/newspapers/k...  1940/10/18   \n",
       "\n",
       "   classification                                               text  \\\n",
       "0               1                         會员大募集運動市協活動準備第一世諸氏の援助協力を希望   \n",
       "1               1                                 一世行進曲 | ’ ，， 常石芝靑作   \n",
       "2              -1                 1 二世も - 一一世 ^^ 心せょ \" 米國鄉軍は顔る公平ね 0-   \n",
       "3               1  しズ 0 t 家 * に纖されねぱな -^ a* 今や 19 始時代から永らく奮 H を續け...   \n",
       "4               1                                             此第一世の遺   \n",
       "\n",
       "                                            comments  \n",
       "0  seems good to me, is using it as a generationa...  \n",
       "1  needs to be verified, but seems related to poe...  \n",
       "2  OCR read 二 as 一一 resulting in 二世 looking like ...  \n",
       "3                                                NaN  \n",
       "4                   \"this first generation's legacy\"  "
      ]
     },
     "execution_count": 3,
     "metadata": {},
     "output_type": "execute_result"
    }
   ],
   "source": [
    "# importing data: \n",
    "\n",
    "data = pd.read_csv('issei_training_data - Sheet1.csv')\n",
    "\n",
    "data.head()"
   ]
  },
  {
   "cell_type": "code",
   "execution_count": 15,
   "id": "bd20a0f6-d509-4575-94f7-15364559fce9",
   "metadata": {},
   "outputs": [
    {
     "data": {
      "text/plain": [
       "array(['1 二世も - 一一世 ^^ 心せょ \" 米國鄉軍は顔る公平ね 0-'], dtype=object)"
      ]
     },
     "execution_count": 15,
     "metadata": {},
     "output_type": "execute_result"
    }
   ],
   "source": [
    "# just get a random string: \n",
    "\n",
    "data.sample(1)['text'].values"
   ]
  },
  {
   "cell_type": "code",
   "execution_count": 13,
   "id": "b0673f14-db1f-4a74-98a4-2ad765e88785",
   "metadata": {},
   "outputs": [
    {
     "ename": "SyntaxError",
     "evalue": "EOL while scanning string literal (1970346710.py, line 3)",
     "output_type": "error",
     "traceback": [
      "\u001b[1;36m  File \u001b[1;32m\"C:\\Users\\alica\\AppData\\Local\\Temp\\ipykernel_28472\\1970346710.py\"\u001b[1;36m, line \u001b[1;32m3\u001b[0m\n\u001b[1;33m    expr = '\\n4\u001b[0m\n\u001b[1;37m               ^\u001b[0m\n\u001b[1;31mSyntaxError\u001b[0m\u001b[1;31m:\u001b[0m EOL while scanning string literal\n"
     ]
    }
   ],
   "source": [
    "def get_date(series):\n",
    "    '''given a series that contains strings with a date of the form 0000.00.00 (year/month/day) return this string as a new series'''\n",
    "    expr = '\\n4\n",
    "    "
   ]
  },
  {
   "cell_type": "code",
   "execution_count": 6,
   "id": "89b6dd69-24f1-403e-a05e-f01185d61770",
   "metadata": {},
   "outputs": [],
   "source": [
    "# remove stop words and characters that are not actual japanese characters \n",
    "\n",
    "def clean_strings(series): \n",
    "    '''given a series of strings written in japanese, remove all stops words or words that are not valid characters'''\n",
    "    # requires using nltk: \n",
    "    "
   ]
  },
  {
   "cell_type": "code",
   "execution_count": null,
   "id": "49244354-4b26-4ea2-ae30-86707db149f8",
   "metadata": {},
   "outputs": [],
   "source": []
  }
 ],
 "metadata": {
  "kernelspec": {
   "display_name": "Python 3 (ipykernel)",
   "language": "python",
   "name": "python3"
  },
  "language_info": {
   "codemirror_mode": {
    "name": "ipython",
    "version": 3
   },
   "file_extension": ".py",
   "mimetype": "text/x-python",
   "name": "python",
   "nbconvert_exporter": "python",
   "pygments_lexer": "ipython3",
   "version": "3.9.13"
  }
 },
 "nbformat": 4,
 "nbformat_minor": 5
}
