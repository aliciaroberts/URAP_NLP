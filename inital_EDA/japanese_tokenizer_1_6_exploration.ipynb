{
 "cells": [
  {
   "cell_type": "markdown",
   "id": "ef87e9c6-34d8-43b3-9c48-0b9d3c91ccae",
   "metadata": {},
   "source": [
    "# Japanese Tokenizer 1.6 \n",
    "## Exploration and Sandboxing\n",
    "\n",
    "**date started: 11/20/2024**\n",
    "\n",
    "_Summary: the installation process on all fronts has been difficult, regardless of the tokenizer I try to use, so I'm going to try something else_\n",
    "\n",
    "https://pypi.org/project/JapaneseTokenizer/"
   ]
  },
  {
   "cell_type": "code",
   "execution_count": 2,
   "id": "b35b0a5f-40d7-4cfe-8e27-a67ea4bfe8b1",
   "metadata": {},
   "outputs": [
    {
     "name": "stdout",
     "output_type": "stream",
     "text": [
      "Collecting JapaneseTokenizer\n",
      "  Downloading JapaneseTokenizer-1.6-py3-none-any.whl (44 kB)\n",
      "     ---------------------------------------- 44.4/44.4 kB 2.3 MB/s eta 0:00:00\n",
      "Requirement already satisfied: pexpect in c:\\users\\alica\\anaconda3\\lib\\site-packages (from JapaneseTokenizer) (4.8.0)\n",
      "Collecting mecab-python3\n",
      "  Downloading mecab_python3-1.0.10-cp39-cp39-win_amd64.whl (502 kB)\n",
      "     ------------------------------------- 502.5/502.5 kB 10.5 MB/s eta 0:00:00\n",
      "Collecting pypandoc\n",
      "  Downloading pypandoc-1.14-py3-none-any.whl (21 kB)\n",
      "Requirement already satisfied: pip>=8.1.0 in c:\\users\\alica\\anaconda3\\lib\\site-packages (from JapaneseTokenizer) (22.2.2)\n",
      "Requirement already satisfied: future in c:\\users\\alica\\anaconda3\\lib\\site-packages (from JapaneseTokenizer) (0.18.2)\n",
      "Collecting pyknp>=0.4.1\n",
      "  Downloading pyknp-0.6.1-py3-none-any.whl (42 kB)\n",
      "     ---------------------------------------- 42.5/42.5 kB ? eta 0:00:00\n",
      "Collecting jaconv>=0.2\n",
      "  Downloading jaconv-0.4.0.tar.gz (17 kB)\n",
      "  Preparing metadata (setup.py): started\n",
      "  Preparing metadata (setup.py): finished with status 'done'\n",
      "Requirement already satisfied: six in c:\\users\\alica\\anaconda3\\lib\\site-packages (from JapaneseTokenizer) (1.16.0)\n",
      "Requirement already satisfied: ptyprocess>=0.5 in c:\\users\\alica\\anaconda3\\lib\\site-packages (from pexpect->JapaneseTokenizer) (0.7.0)\n",
      "Building wheels for collected packages: jaconv\n",
      "  Building wheel for jaconv (setup.py): started\n",
      "  Building wheel for jaconv (setup.py): finished with status 'done'\n",
      "  Created wheel for jaconv: filename=jaconv-0.4.0-py3-none-any.whl size=18228 sha256=be3843fc4d0a60bf14f990a9485766e66368725a60bc483e328678c112dfd339\n",
      "  Stored in directory: c:\\users\\alica\\appdata\\local\\pip\\cache\\wheels\\c6\\6b\\fa\\9574efaca6aced07c97ab08d7e40a5cdf8f31ecbe73d55e077\n",
      "Successfully built jaconv\n",
      "Installing collected packages: mecab-python3, jaconv, pypandoc, pyknp, JapaneseTokenizer\n",
      "Successfully installed JapaneseTokenizer-1.6 jaconv-0.4.0 mecab-python3-1.0.10 pyknp-0.6.1 pypandoc-1.14\n"
     ]
    }
   ],
   "source": [
    "# installing tokenizer\n",
    "\n",
    "!pip install JapaneseTokenizer"
   ]
  },
  {
   "cell_type": "code",
   "execution_count": 16,
   "id": "8653089b-d277-48ff-b12a-3bbc490ffdd3",
   "metadata": {},
   "outputs": [
    {
     "name": "stderr",
     "output_type": "stream",
     "text": [
      "[Y/11/20 15:29:37]WARNING - text_preprocess.py#<module>:29: neologdn package is not installed yet. You could not call neologd dictionary.\n",
      "[Y/11/20 15:29:38]WARNING - mecab_wrapper.py#<module>:28: neologdn package is not installed yet. You could not call neologd dictionary.\n",
      "[Y/11/20 15:29:40]WARNING - kytea_wrapper.py#<module>:19: Mykytea is not ready to use yet. Install first if you would like to use kytea wrapper.\n"
     ]
    }
   ],
   "source": [
    "# following tutorial: \n",
    "import JapaneseTokenizer\n",
    "\n",
    "input_sentence = '10日放送の「中居正広のミになる図書館」（テレビ朝日系）で、SMAPの中居正広が、篠原信一の過去の勘違いを明かす一幕があった。'"
   ]
  },
  {
   "cell_type": "code",
   "execution_count": 17,
   "id": "33aff87b-1099-46cb-850d-510f0e125bf8",
   "metadata": {},
   "outputs": [
    {
     "ename": "FileNotFoundError",
     "evalue": "[WinError 2] The system cannot find the file specified",
     "output_type": "error",
     "traceback": [
      "\u001b[1;31m---------------------------------------------------------------------------\u001b[0m",
      "\u001b[1;31mFileNotFoundError\u001b[0m                         Traceback (most recent call last)",
      "\u001b[1;32m~\\AppData\\Local\\Temp\\ipykernel_32468\\3469833354.py\u001b[0m in \u001b[0;36m<module>\u001b[1;34m\u001b[0m\n\u001b[0;32m      1\u001b[0m \u001b[1;31m# ipadic is well-maintained dictionary #\u001b[0m\u001b[1;33m\u001b[0m\u001b[1;33m\u001b[0m\u001b[0m\n\u001b[1;32m----> 2\u001b[1;33m \u001b[0mmecab_wrapper\u001b[0m \u001b[1;33m=\u001b[0m \u001b[0mJapaneseTokenizer\u001b[0m\u001b[1;33m.\u001b[0m\u001b[0mMecabWrapper\u001b[0m\u001b[1;33m(\u001b[0m\u001b[0mdictType\u001b[0m\u001b[1;33m=\u001b[0m\u001b[1;34m'ipadic'\u001b[0m\u001b[1;33m)\u001b[0m\u001b[1;33m\u001b[0m\u001b[1;33m\u001b[0m\u001b[0m\n\u001b[0m",
      "\u001b[1;32m~\\anaconda3\\lib\\site-packages\\JapaneseTokenizer\\mecab_wrapper\\mecab_wrapper.py\u001b[0m in \u001b[0;36m__init__\u001b[1;34m(self, dictType, pathUserDictCsv, path_mecab_config, path_dictionary, string_encoding)\u001b[0m\n\u001b[0;32m     51\u001b[0m         \u001b[0mself\u001b[0m\u001b[1;33m.\u001b[0m\u001b[0m_path_dictionary\u001b[0m \u001b[1;33m=\u001b[0m \u001b[0mpath_dictionary\u001b[0m\u001b[1;33m\u001b[0m\u001b[1;33m\u001b[0m\u001b[0m\n\u001b[0;32m     52\u001b[0m         \u001b[1;32mif\u001b[0m \u001b[0mpath_mecab_config\u001b[0m \u001b[1;32mis\u001b[0m \u001b[1;32mNone\u001b[0m\u001b[1;33m:\u001b[0m\u001b[1;33m\u001b[0m\u001b[1;33m\u001b[0m\u001b[0m\n\u001b[1;32m---> 53\u001b[1;33m             \u001b[0mself\u001b[0m\u001b[1;33m.\u001b[0m\u001b[0m_path_mecab_config\u001b[0m \u001b[1;33m=\u001b[0m \u001b[0mself\u001b[0m\u001b[1;33m.\u001b[0m\u001b[0m__get_path_to_mecab_config\u001b[0m\u001b[1;33m(\u001b[0m\u001b[1;33m)\u001b[0m\u001b[1;33m\u001b[0m\u001b[1;33m\u001b[0m\u001b[0m\n\u001b[0m\u001b[0;32m     54\u001b[0m         \u001b[1;32melse\u001b[0m\u001b[1;33m:\u001b[0m\u001b[1;33m\u001b[0m\u001b[1;33m\u001b[0m\u001b[0m\n\u001b[0;32m     55\u001b[0m             \u001b[0mself\u001b[0m\u001b[1;33m.\u001b[0m\u001b[0m_path_mecab_config\u001b[0m \u001b[1;33m=\u001b[0m \u001b[0mpath_mecab_config\u001b[0m\u001b[1;33m\u001b[0m\u001b[1;33m\u001b[0m\u001b[0m\n",
      "\u001b[1;32m~\\anaconda3\\lib\\site-packages\\JapaneseTokenizer\\mecab_wrapper\\mecab_wrapper.py\u001b[0m in \u001b[0;36m__get_path_to_mecab_config\u001b[1;34m(self)\u001b[0m\n\u001b[0;32m     84\u001b[0m             \u001b[0mpath_mecab_config_dir\u001b[0m \u001b[1;33m=\u001b[0m \u001b[0mpath_mecab_config_dir\u001b[0m\u001b[1;33m.\u001b[0m\u001b[0mstrip\u001b[0m\u001b[1;33m(\u001b[0m\u001b[1;33m)\u001b[0m\u001b[1;33m.\u001b[0m\u001b[0mreplace\u001b[0m\u001b[1;33m(\u001b[0m\u001b[1;34m'/mecab-config'\u001b[0m\u001b[1;33m,\u001b[0m \u001b[1;34m''\u001b[0m\u001b[1;33m)\u001b[0m\u001b[1;33m\u001b[0m\u001b[1;33m\u001b[0m\u001b[0m\n\u001b[0;32m     85\u001b[0m         \u001b[1;32melse\u001b[0m\u001b[1;33m:\u001b[0m\u001b[1;33m\u001b[0m\u001b[1;33m\u001b[0m\u001b[0m\n\u001b[1;32m---> 86\u001b[1;33m             \u001b[0mpath_mecab_config_dir\u001b[0m \u001b[1;33m=\u001b[0m \u001b[0msubprocess\u001b[0m\u001b[1;33m.\u001b[0m\u001b[0mcheck_output\u001b[0m\u001b[1;33m(\u001b[0m\u001b[1;33m[\u001b[0m\u001b[1;34m'which'\u001b[0m\u001b[1;33m,\u001b[0m \u001b[1;34m'mecab-config'\u001b[0m\u001b[1;33m]\u001b[0m\u001b[1;33m)\u001b[0m\u001b[1;33m.\u001b[0m\u001b[0mdecode\u001b[0m\u001b[1;33m(\u001b[0m\u001b[0mself\u001b[0m\u001b[1;33m.\u001b[0m\u001b[0mstring_encoding\u001b[0m\u001b[1;33m)\u001b[0m\u001b[1;33m\u001b[0m\u001b[1;33m\u001b[0m\u001b[0m\n\u001b[0m\u001b[0;32m     87\u001b[0m             \u001b[0mpath_mecab_config_dir\u001b[0m \u001b[1;33m=\u001b[0m \u001b[0mpath_mecab_config_dir\u001b[0m\u001b[1;33m.\u001b[0m\u001b[0mstrip\u001b[0m\u001b[1;33m(\u001b[0m\u001b[1;33m)\u001b[0m\u001b[1;33m.\u001b[0m\u001b[0mreplace\u001b[0m\u001b[1;33m(\u001b[0m\u001b[1;34m'/mecab-config'\u001b[0m\u001b[1;33m,\u001b[0m \u001b[1;34m''\u001b[0m\u001b[1;33m)\u001b[0m\u001b[1;33m\u001b[0m\u001b[1;33m\u001b[0m\u001b[0m\n\u001b[0;32m     88\u001b[0m \u001b[1;33m\u001b[0m\u001b[0m\n",
      "\u001b[1;32m~\\anaconda3\\lib\\subprocess.py\u001b[0m in \u001b[0;36mcheck_output\u001b[1;34m(timeout, *popenargs, **kwargs)\u001b[0m\n\u001b[0;32m    422\u001b[0m         \u001b[0mkwargs\u001b[0m\u001b[1;33m[\u001b[0m\u001b[1;34m'input'\u001b[0m\u001b[1;33m]\u001b[0m \u001b[1;33m=\u001b[0m \u001b[0mempty\u001b[0m\u001b[1;33m\u001b[0m\u001b[1;33m\u001b[0m\u001b[0m\n\u001b[0;32m    423\u001b[0m \u001b[1;33m\u001b[0m\u001b[0m\n\u001b[1;32m--> 424\u001b[1;33m     return run(*popenargs, stdout=PIPE, timeout=timeout, check=True,\n\u001b[0m\u001b[0;32m    425\u001b[0m                **kwargs).stdout\n\u001b[0;32m    426\u001b[0m \u001b[1;33m\u001b[0m\u001b[0m\n",
      "\u001b[1;32m~\\anaconda3\\lib\\subprocess.py\u001b[0m in \u001b[0;36mrun\u001b[1;34m(input, capture_output, timeout, check, *popenargs, **kwargs)\u001b[0m\n\u001b[0;32m    503\u001b[0m         \u001b[0mkwargs\u001b[0m\u001b[1;33m[\u001b[0m\u001b[1;34m'stderr'\u001b[0m\u001b[1;33m]\u001b[0m \u001b[1;33m=\u001b[0m \u001b[0mPIPE\u001b[0m\u001b[1;33m\u001b[0m\u001b[1;33m\u001b[0m\u001b[0m\n\u001b[0;32m    504\u001b[0m \u001b[1;33m\u001b[0m\u001b[0m\n\u001b[1;32m--> 505\u001b[1;33m     \u001b[1;32mwith\u001b[0m \u001b[0mPopen\u001b[0m\u001b[1;33m(\u001b[0m\u001b[1;33m*\u001b[0m\u001b[0mpopenargs\u001b[0m\u001b[1;33m,\u001b[0m \u001b[1;33m**\u001b[0m\u001b[0mkwargs\u001b[0m\u001b[1;33m)\u001b[0m \u001b[1;32mas\u001b[0m \u001b[0mprocess\u001b[0m\u001b[1;33m:\u001b[0m\u001b[1;33m\u001b[0m\u001b[1;33m\u001b[0m\u001b[0m\n\u001b[0m\u001b[0;32m    506\u001b[0m         \u001b[1;32mtry\u001b[0m\u001b[1;33m:\u001b[0m\u001b[1;33m\u001b[0m\u001b[1;33m\u001b[0m\u001b[0m\n\u001b[0;32m    507\u001b[0m             \u001b[0mstdout\u001b[0m\u001b[1;33m,\u001b[0m \u001b[0mstderr\u001b[0m \u001b[1;33m=\u001b[0m \u001b[0mprocess\u001b[0m\u001b[1;33m.\u001b[0m\u001b[0mcommunicate\u001b[0m\u001b[1;33m(\u001b[0m\u001b[0minput\u001b[0m\u001b[1;33m,\u001b[0m \u001b[0mtimeout\u001b[0m\u001b[1;33m=\u001b[0m\u001b[0mtimeout\u001b[0m\u001b[1;33m)\u001b[0m\u001b[1;33m\u001b[0m\u001b[1;33m\u001b[0m\u001b[0m\n",
      "\u001b[1;32m~\\anaconda3\\lib\\subprocess.py\u001b[0m in \u001b[0;36m__init__\u001b[1;34m(self, args, bufsize, executable, stdin, stdout, stderr, preexec_fn, close_fds, shell, cwd, env, universal_newlines, startupinfo, creationflags, restore_signals, start_new_session, pass_fds, user, group, extra_groups, encoding, errors, text, umask)\u001b[0m\n\u001b[0;32m    949\u001b[0m                             encoding=encoding, errors=errors)\n\u001b[0;32m    950\u001b[0m \u001b[1;33m\u001b[0m\u001b[0m\n\u001b[1;32m--> 951\u001b[1;33m             self._execute_child(args, executable, preexec_fn, close_fds,\n\u001b[0m\u001b[0;32m    952\u001b[0m                                 \u001b[0mpass_fds\u001b[0m\u001b[1;33m,\u001b[0m \u001b[0mcwd\u001b[0m\u001b[1;33m,\u001b[0m \u001b[0menv\u001b[0m\u001b[1;33m,\u001b[0m\u001b[1;33m\u001b[0m\u001b[1;33m\u001b[0m\u001b[0m\n\u001b[0;32m    953\u001b[0m                                 \u001b[0mstartupinfo\u001b[0m\u001b[1;33m,\u001b[0m \u001b[0mcreationflags\u001b[0m\u001b[1;33m,\u001b[0m \u001b[0mshell\u001b[0m\u001b[1;33m,\u001b[0m\u001b[1;33m\u001b[0m\u001b[1;33m\u001b[0m\u001b[0m\n",
      "\u001b[1;32m~\\anaconda3\\lib\\subprocess.py\u001b[0m in \u001b[0;36m_execute_child\u001b[1;34m(self, args, executable, preexec_fn, close_fds, pass_fds, cwd, env, startupinfo, creationflags, shell, p2cread, p2cwrite, c2pread, c2pwrite, errread, errwrite, unused_restore_signals, unused_gid, unused_gids, unused_uid, unused_umask, unused_start_new_session)\u001b[0m\n\u001b[0;32m   1418\u001b[0m             \u001b[1;31m# Start the process\u001b[0m\u001b[1;33m\u001b[0m\u001b[1;33m\u001b[0m\u001b[0m\n\u001b[0;32m   1419\u001b[0m             \u001b[1;32mtry\u001b[0m\u001b[1;33m:\u001b[0m\u001b[1;33m\u001b[0m\u001b[1;33m\u001b[0m\u001b[0m\n\u001b[1;32m-> 1420\u001b[1;33m                 hp, ht, pid, tid = _winapi.CreateProcess(executable, args,\n\u001b[0m\u001b[0;32m   1421\u001b[0m                                          \u001b[1;31m# no special security\u001b[0m\u001b[1;33m\u001b[0m\u001b[1;33m\u001b[0m\u001b[0m\n\u001b[0;32m   1422\u001b[0m                                          \u001b[1;32mNone\u001b[0m\u001b[1;33m,\u001b[0m \u001b[1;32mNone\u001b[0m\u001b[1;33m,\u001b[0m\u001b[1;33m\u001b[0m\u001b[1;33m\u001b[0m\u001b[0m\n",
      "\u001b[1;31mFileNotFoundError\u001b[0m: [WinError 2] The system cannot find the file specified"
     ]
    }
   ],
   "source": [
    "# ipadic is well-maintained dictionary #\n",
    "mecab_wrapper = JapaneseTokenizer.MecabWrapper(dictType='ipadic')"
   ]
  },
  {
   "cell_type": "code",
   "execution_count": null,
   "id": "f8d4c90d-edd3-428b-bb57-afb8fbeb5ba0",
   "metadata": {},
   "outputs": [],
   "source": []
  }
 ],
 "metadata": {
  "kernelspec": {
   "display_name": "Python 3 (ipykernel)",
   "language": "python",
   "name": "python3"
  },
  "language_info": {
   "codemirror_mode": {
    "name": "ipython",
    "version": 3
   },
   "file_extension": ".py",
   "mimetype": "text/x-python",
   "name": "python",
   "nbconvert_exporter": "python",
   "pygments_lexer": "ipython3",
   "version": "3.9.13"
  }
 },
 "nbformat": 4,
 "nbformat_minor": 5
}
