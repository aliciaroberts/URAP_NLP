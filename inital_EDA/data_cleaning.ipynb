{
 "cells": [
  {
   "cell_type": "markdown",
   "id": "627877df-1496-4ba8-8fdc-ffabb12f09ec",
   "metadata": {},
   "source": [
    "# Prepping Data for Classifying \n",
    "_Alicia Roberts_\n",
    "\n",
    "Given data from the Hoji Shinbun Digital Archive for occurences of nisei in texts, clean the data to be ready for classifying. \n",
    "\n",
    "_goal:_ create a tokenized, shortened, cleaned string of each occurence of nisei in the text as its own data point in a data frame. \n",
    "\n",
    "input columns: link, linkWithDate, numWords, paragraphs, pdfName\n",
    "\n",
    "Given num words, this will add N-1 data points per a data point where N is the value in numWords. \n",
    "\n",
    "outputs: \n",
    "\n",
    "training matrix: training values for each data point (leave all information up to some lower limit, then perform PCA later)\n",
    "data matrix: link, year, text (not tokenized) \n",
    "\n",
    "\n",
    "\n",
    "Date started: 12/6/2024"
   ]
  },
  {
   "cell_type": "code",
   "execution_count": 34,
   "id": "1f4258e5-cdfa-4c37-9c2a-028f28a5f74e",
   "metadata": {},
   "outputs": [],
   "source": [
    "# working with the output file Ryan made:\n",
    "\n",
    "import pandas as pd\n",
    "\n",
    "import numpy as np\n",
    "\n",
    "import matplotlib.pyplot as plt\n",
    "import seaborn as sns\n",
    "sns.set_style()\n"
   ]
  },
  {
   "cell_type": "code",
   "execution_count": 35,
   "id": "89186c17-0f66-471b-bb5c-2c0664f160f0",
   "metadata": {},
   "outputs": [],
   "source": [
    "data = pd.read_json('output.json')"
   ]
  },
  {
   "cell_type": "code",
   "execution_count": 36,
   "id": "cb4346cd-80ce-4e90-b3e9-7c0414c2ae84",
   "metadata": {},
   "outputs": [
    {
     "data": {
      "text/html": [
       "<div>\n",
       "<style scoped>\n",
       "    .dataframe tbody tr th:only-of-type {\n",
       "        vertical-align: middle;\n",
       "    }\n",
       "\n",
       "    .dataframe tbody tr th {\n",
       "        vertical-align: top;\n",
       "    }\n",
       "\n",
       "    .dataframe thead th {\n",
       "        text-align: right;\n",
       "    }\n",
       "</style>\n",
       "<table border=\"1\" class=\"dataframe\">\n",
       "  <thead>\n",
       "    <tr style=\"text-align: right;\">\n",
       "      <th></th>\n",
       "      <th>link</th>\n",
       "      <th>linkWithDate</th>\n",
       "      <th>numWords</th>\n",
       "      <th>paragraphs</th>\n",
       "      <th>pdfName</th>\n",
       "    </tr>\n",
       "  </thead>\n",
       "  <tbody>\n",
       "    <tr>\n",
       "      <th>0</th>\n",
       "      <td>https://hojishinbun.hoover.org/?a=d&amp;d=jan19360...</td>\n",
       "      <td>https://hojishinbun.hoover.org/en/newspapers/j...</td>\n",
       "      <td>5</td>\n",
       "      <td>滅念祀迎獸轚鼴罾鐮 81 帝 1 世を黏レゎそれ —№ 11 にこ # は於 &amp; しヤやニル...</td>\n",
       "      <td>jan_19360710_0019.pdf</td>\n",
       "    </tr>\n",
       "    <tr>\n",
       "      <th>1</th>\n",
       "      <td>https://hojishinbun.hoover.org/?a=d&amp;d=kam19350...</td>\n",
       "      <td>https://hojishinbun.hoover.org/en/newspapers/k...</td>\n",
       "      <td>7</td>\n",
       "      <td>「 ，！ 一 ： こ匿 - — 511. :.?-&lt;-€¢€1—\"--#118*141( -...</td>\n",
       "      <td>kam_19350811_0003.pdf</td>\n",
       "    </tr>\n",
       "    <tr>\n",
       "      <th>2</th>\n",
       "      <td>https://hojishinbun.hoover.org/?a=d&amp;d=kam19420...</td>\n",
       "      <td>https://hojishinbun.hoover.org/en/newspapers/k...</td>\n",
       "      <td>5</td>\n",
       "      <td>一世二世の失業者は ’： 一 1^ ノ至急市協へ報吿せょ一 ：1 - ”£2” 日本人救濟の...</td>\n",
       "      <td>kam_19420128_0003.pdf</td>\n",
       "    </tr>\n",
       "    <tr>\n",
       "      <th>3</th>\n",
       "      <td>https://hojishinbun.hoover.org/?a=d&amp;d=jan19410...</td>\n",
       "      <td>https://hojishinbun.hoover.org/en/newspapers/j...</td>\n",
       "      <td>6</td>\n",
       "      <td>號ニ十六百七千四万一第 當太和 3 声では開菜一一一却年 2.. ' と I て來る四 ：：...</td>\n",
       "      <td>jan_19410107_0005.pdf</td>\n",
       "    </tr>\n",
       "    <tr>\n",
       "      <th>4</th>\n",
       "      <td>https://hojishinbun.hoover.org/?a=d&amp;d=kam19350...</td>\n",
       "      <td>https://hojishinbun.hoover.org/en/newspapers/k...</td>\n",
       "      <td>2</td>\n",
       "      <td>ジブラルタルとスュズ運河 ， 藤丼整 霉とな 〇 先が ^ ブチルタル線杯か 6111 8 ...</td>\n",
       "      <td>kam_19350922_0002.pdf</td>\n",
       "    </tr>\n",
       "  </tbody>\n",
       "</table>\n",
       "</div>"
      ],
      "text/plain": [
       "                                                link  \\\n",
       "0  https://hojishinbun.hoover.org/?a=d&d=jan19360...   \n",
       "1  https://hojishinbun.hoover.org/?a=d&d=kam19350...   \n",
       "2  https://hojishinbun.hoover.org/?a=d&d=kam19420...   \n",
       "3  https://hojishinbun.hoover.org/?a=d&d=jan19410...   \n",
       "4  https://hojishinbun.hoover.org/?a=d&d=kam19350...   \n",
       "\n",
       "                                        linkWithDate  numWords  \\\n",
       "0  https://hojishinbun.hoover.org/en/newspapers/j...         5   \n",
       "1  https://hojishinbun.hoover.org/en/newspapers/k...         7   \n",
       "2  https://hojishinbun.hoover.org/en/newspapers/k...         5   \n",
       "3  https://hojishinbun.hoover.org/en/newspapers/j...         6   \n",
       "4  https://hojishinbun.hoover.org/en/newspapers/k...         2   \n",
       "\n",
       "                                          paragraphs                pdfName  \n",
       "0  滅念祀迎獸轚鼴罾鐮 81 帝 1 世を黏レゎそれ —№ 11 にこ # は於 & しヤやニル...  jan_19360710_0019.pdf  \n",
       "1  「 ，！ 一 ： こ匿 - — 511. :.?-<-€¢€1—\"--#118*141( -...  kam_19350811_0003.pdf  \n",
       "2  一世二世の失業者は ’： 一 1^ ノ至急市協へ報吿せょ一 ：1 - ”£2” 日本人救濟の...  kam_19420128_0003.pdf  \n",
       "3  號ニ十六百七千四万一第 當太和 3 声では開菜一一一却年 2.. ' と I て來る四 ：：...  jan_19410107_0005.pdf  \n",
       "4  ジブラルタルとスュズ運河 ， 藤丼整 霉とな 〇 先が ^ ブチルタル線杯か 6111 8 ...  kam_19350922_0002.pdf  "
      ]
     },
     "execution_count": 36,
     "metadata": {},
     "output_type": "execute_result"
    }
   ],
   "source": [
    "data.head()"
   ]
  },
  {
   "cell_type": "code",
   "execution_count": 37,
   "id": "d981ddc7-5e66-4c2b-9d87-1eb7093acb7a",
   "metadata": {},
   "outputs": [
    {
     "name": "stdout",
     "output_type": "stream",
     "text": [
      "<class 'pandas.core.frame.DataFrame'>\n",
      "RangeIndex: 100 entries, 0 to 99\n",
      "Data columns (total 5 columns):\n",
      " #   Column        Non-Null Count  Dtype \n",
      "---  ------        --------------  ----- \n",
      " 0   link          100 non-null    object\n",
      " 1   linkWithDate  100 non-null    object\n",
      " 2   numWords      100 non-null    int64 \n",
      " 3   paragraphs    100 non-null    object\n",
      " 4   pdfName       100 non-null    object\n",
      "dtypes: int64(1), object(4)\n",
      "memory usage: 4.0+ KB\n"
     ]
    }
   ],
   "source": [
    "data.info()"
   ]
  },
  {
   "cell_type": "code",
   "execution_count": 41,
   "id": "bded0f70-10e8-46b1-8047-203cfef43be9",
   "metadata": {},
   "outputs": [
    {
     "data": {
      "text/plain": [
       "str"
      ]
     },
     "execution_count": 41,
     "metadata": {},
     "output_type": "execute_result"
    }
   ],
   "source": [
    "# testing the format of the texts:\n",
    "\n",
    "type(data.iloc[0]['paragraphs']) # okay cool its the type we want! Let's run the cleaning on it?"
   ]
  },
  {
   "cell_type": "code",
   "execution_count": 42,
   "id": "f6d36218-7ba7-4616-b90c-4945fcc81fee",
   "metadata": {},
   "outputs": [],
   "source": [
    "def remove_hit(string, hit):\n",
    "    '''return a shortened version of STRING that is centered around HIT with N characters on each side of it\n",
    "    STRING: any string\n",
    "    HIT: any word\n",
    "    returns:\n",
    "    STRING wihout HIT, N: any positive integer that is the location of HIT in STRING. will return the first occurence of the first character of HIT'''\n",
    "    ns = [] # this means there is no occurence of HIT if empty\n",
    "    mod_string = ''\n",
    "    \n",
    "    if (hit in string): # first see that HIT is actually in STRING to avoid errors\n",
    "        size_hit = len(hit) # how many characters to examine at once \n",
    "        \n",
    "        for n in range(len(string) - size_hit): # itterate through STRING until you reach HIT\n",
    "            \n",
    "            if string[n:n+size_hit] == hit: # iterating till we reach HIT\n",
    "                if mod_string == '':\n",
    "                    mod_string = string[0:n] + string[n+size_hit:] # create a modified string without HIT\n",
    "                    \n",
    "                else:\n",
    "                    mod_string = mod_string[0:n - size_hit] + mod_string[n:] # since mod_string is already 3 indeces shorter, you have to account for that \n",
    "                ns.append(n)    \n",
    "        if len(ns) == 1:\n",
    "            return np.array(mod_string), ns[0]# return modified string + index value of the first occurence \n",
    "        return np.array(mod_string), ns\n",
    "    \n",
    "    # if HIT is not in STRING, return empty string and -1 (to be removed later):\n",
    "    return '', -1 #"
   ]
  },
  {
   "cell_type": "code",
   "execution_count": 44,
   "id": "4305725a-cf21-458c-b1c3-0c12d1e1920f",
   "metadata": {},
   "outputs": [
    {
     "data": {
      "text/plain": [
       "(array('滅念祀迎獸轚鼴罾鐮 81 帝 1 世を黏レゎそれ —№ 11 にこ # は於 & しヤやニル ^ 」 81X2 する怒 5 ざ 511^ 牝把の 1251 にあ 61 蕾 ！！ 膽一 ^ 十 111 萬ミ & せられるが 、 この内 ，1 世は六萬 ， は七錢 2 ぃ体 “， しか . 〇 11& のや 5^ 叱は 71.-1- 六纪 5 傭へら IX てゐ 6 嫌こ 1 ヒパ 4 才 <1 ャ — 1 し \\' I - 歡祀 41 はらつて ！ ヒげた蟓譬たる二说に ！！^ ！ す翠 . -5 づぃに - を初 13 つて 611 のであ 6 ゲ後 1 世 5 歡は撕少 08 をた ?\\' る一 ^ V あつてそれに比して ， 二 #， 芑坩 11 奶 5 七此處十印以内に & は完ゲに 6 世の屮 2 なつて來るだらぅ 0 1 世パ 4 ォ爲ャ — 0) 譏 ！^ を籲保 4|) たて — 行かなければならなぃ 1 一世の資任や纗め X 纛 4^ ある “ A この 1^ 阏 11 社 # にあつてこ赏の ？？^ 糴濟 2 し \\\\3！ も & されてゐ 6 のは (11 山 ^58^ ふ — グメントで #) る ，8：|^ #18 も二 V の練 5 屮 ？ じて ” 广 58 を 3 へて I \" 袭布 2 酽駔昏淀にデダ 1131^ 命 ：# #?\\' 鳩に績布讓曹 1 立を )¢, 6!: いた 〇 た ， 北は泠濬 ， 南は我く 9 サ齡デ — ザ . 帝 N1 牛蒙 . 軍は |1|1 中離 |： ゎたって 011 する & 4-(: 遍ん艺すも 111 ££2 か ^^^ 氍 .1& 纪して ^ 年ご 2 1: 令装允勢 .^ 11 す .4 个打の匯令上 .0^8^83^ 二世 3 2 21 に ！！ 者粑供邦人 №1- ¢)?? 拿な ！ 3 れ 2 なつてゐ 6 が ， これが 55 令幕ねてみた ！^. 路 £££6 1^ 饞は實に 111 45 し I す - まず臌が 0： 處 <1. = 年来の 115, 感允想し得たであらぅか ， が盱繡 3 な办 ， 令 # 的なものまなつたの ！^^ 六 ， 七厶〆か 1 が爲 #|| したの II 一九一三的であつ卜 ： 费キの二 2 年には今 11 0) 争素 II 來 ^~2|^ 會 6 ォ ^ 1 % 6 ベ参欠曹が ，！^1 ¢11 || の名 . 」 %\\' いてコ I 月廿九 1] 聲樁 1110-0^ かれた攀 1# VI% 7 V 7 鉍爲ノ ， 霤 I ダ 4 鲁メ曹 X ピル ， 軒布 ， 鬌庚 ， サ — ナス .8., け气 2 垂爲 〇 — 真 、 觸ポ 、 11, 77， 丨ピル各 ！！ から I 斯つた 2. 十名の似表が 1111 0: にわたつて ！^ 11 を 2 げた一扪 5- はチび害せし嫌伙に一 8 齡に役じてゐたすが - せ ^ 装後は舶がビ ； 明は卜 ！^ | なり ， 1/1- 八 ” 5？ 表では表 6 で火の清へたやぅな抓 |^ #| つた聲一厶 - , II 鼉に #) る 〇 分遽を ，^. するに 2？ んでル撥的に ！ 6 讲し I 把 /: , のご 2 く ！^ 11-0 一 ! が ！！ 11， れ 6, や II 一九二 2 申から - 4 二八年まで 31 ダ年 ^ 2^ の形にねかれ ！^ 皆 ^ 翁もこ世赛纪位奶如し和ん <1; 會にねけ \\'^ 種の讒 49*11 ！ い # 癢山 |^| |6 曾が V 入ゎ 3 な一つて . この大舞は雄期以上 | 仍牧檐を鬌 I こ 5 が出來た I 淑晌平康から色 IV づ I の !!？ 表 ！# が齷 I 10^ した ， ,^8#####################^#######################1 一 # び行く第二世 |%%%%%%%%%%%## 翁 ## %%^ ## ## ## ## #1 ## # ## # ## ## # ## # 一世の平均年齡五十六歲二世の数は七 I XX V%？ れば 2：^1 \\\\1 の ！！ 縿が縳胄せられ ， 日本んの子なるが故に山松 |||； 釀保も I され 6 か靴は扪一 ^2 采ゼぬの太 3 £132 令裘し .！^ して康る . 厶獻 ，— | ‘ >1 #1^4 116 卽ち力であ狀 ％ ぎ一 1)( の祀 | 的纖 |||； 狀此の見は . 一九二九年の桑 1 1： ねけ 61： 平 ！ 0 策鉛沄 —？ 乾 3 した 、 1 九二八年 ！# 11 ネれた 只阳 4 > | 〇 批し布 \\'^ 一叱て員 ^ らがをゐ協 \\' じ防 ： | はる嫌 ， 一成 ？ I 0 9 ㈣ ， 玢 3 办か 9^ 雌 ： れ各すく松んた州 V しにで ’ のて ！： 争ア三 I 系 ？ 箏麴 〗 0 I 馨 ? 職 5 つ蘂 \" 會み三つに I こ (- 企レが 〇 たあグのハ ， い民 , 鑕 ！ 年 ？!^ ボ # づメ大 !？ 才两て篇叉囑 ^ に立かかン曾各此 ？ 鋒 15 會备校 7 はをを厶つ ， はゴか V 馨 5 2 當 ， 法次 X V II V II II 激 ： な蝙 、 てへ大 ？ 保 ？ 系 ^ % 系 4？ 系 ？ がつ 0 を 2 な嫌が V ， が生て系 ^ 心 3 I 鶫し似シ松松れ牝也 〜 . 成 ， カミ鱗 7 V 记ザた 10-!¢¢- がすせ在卜 # 表 # 务 .0 讓マあらム 7 巧 ，， 寶い !^:^ 政 ：，：； 』 01111 二へンぶ ../0 ダ 、 〆〆 ； \" ン 1 7，，\\'\\' ぐ -- て - づ -.- \\'，- —^8^ 一身 “ 一 — ,, 111\" 幽癱 4^ \\' 物 ^I 耋 X 齡 1 ‘- 癱 I — 1 — -- — 一 — 1 \\' - -. 一 - 1# ，4^，， 战九 ^ 1 争 .-. 1 芯 ；！：— 春承 ？^ て ！ の ^ 1 つの鼸紀内にい办 、 完令な . 〇 & 114 に鼸する各重 V 闻膨を铝ふ ！ I し . 组 5 ふ見 .^^^ らしめてゐ 6 令 ，@ 51 絮は 1 をに - 磨 # 备れる .?? 跡 9% 9 (1 1^ —1 いは一九 50 年 ^! 1; 類 ！^ れた - 5 胬 5 怒挺髟ょ备 54- 名 ^^ 作してをつた ， 今泉 X 曾 011 斯 ^#%% ベ # 一九 11 三 ？ 衮 ^ 嚶 5 にぞて 25 9 しい ！！^ V ぁ 6 。 氪こ逛 ^ II？ いで一一は磨でそれ \\'^ ⑹ 膽され ？？ 繁 4; で ？ されん 2 してゐ 6, ぞ ?.: # は |1，|| 名 ， 今 ^\\' 度欠 # には 1=- 名の町纪轉ゐ - 〇 ぺく飧如か 2 一 ^ で |1# 3|1 してゐ 6, 的和欠曾は 2 令雏ね 6 0 1 雀 ^^ につ II て後令光寅 ，^ 象の赢寫眞は啐年市比 ％ 大曹 6 からの力 ^# 一 !^| して豪 # 嫌 ^ 参あげられ 6 充分の明嫌 V 4 ってか 25153 芳にねけ . 01 0 6118 に 81?,？ なしつ —#> 6 4 した二 4^ 霣 ‘| デ ^ ントがぁった . 031^ 铤 ？， 421 む ^. 笔擊努 5 £1 した ? , 化 28 1 知せし ¢.94 事 ％ 嵌に表んせし和は丹把的手 ！！ に把れ沢紀し 11.0 事 ^ てぁつた . 117 2,25 5 6 5 作的 ^ I レ 1 齡 1 をパ \\'!^— 冤装 4 鼴 ^ 」 翦 1& 115 に 1*5112 して視 9| し 8 倉曹各 4 其松くのに酼 、 には 8 ゲ之 ^ 。 るがの撕そ 6 外 ， だな 6 は得鳙呢にか龙條す ， 月 5^:11*11！， 洲 I ゥ漁 . 一 ， て霧 1 は ❾ 龜 1 し大 ^ ア . 阳 ！ V， 今 ； 系 ^ 松につ繪 、 褰 5 で和 - ので ：； 於の杜家 ^ 譬 ^ のく成 ？ し〆項 4 か决如行サさ ： を九私一費なが ， がにて鷗 1 供 I ひ奴 16 か 4^2 基 、 ぃ偃 ！ 丨あに使しあ供 \" 嫌 ？#“ 匕九 ” ぃ话务遠如て ， 〇 チらを携ザ撕 ， れル鑛 ？ ヨし九はくんゃあは㈣鼸 ： がな - 令 . でら松し系 IX を 1 る重 ？ 妃ら畤 6 系 ？# 的運 “ 匕レ谢ぺし 0 船舞 \" 實专な襲 ： で赠 6 法 2 が ：1 如ヨ少撇 2 二ら蛸 6 说成 ？ がのあが娜 V てし / - 犬 ？ 今う代 ?.||| し斯し今飲來 2 厶た本 I 家人ド籤 1 しの \" 麻ゃ案 ？ せ年 ？ か一 I 遇 ； し鬣う等 ‘ のし ！ 只厶みら眞 3： 於行てし承じ一な戴 ，. 鏞 1 に 1¢: 褢 . ル 11 . 仝 ? 嫌似れ - 人ょ出 “ 法 !13 ， 立本 ！ 2 ， がん 0 5 年 2 ズしてが # かをてし #： ヤ | うのふ撕患 ？ ぃし今雪役了け 1111 扣闻いの ^！^|| 辽ば穷 ， 狄れにれ幻が入 ！， V 10*2 キ ： れにル立 5 騎一祀和 ％ 二 ， 宵 \\\\ らが代し I せ貪屬 5， II パ謂 ： し收つ明 … 確 ^ 人 ^ の來 ” ザ 11 ㈣ ？ ん 〇 て寿かの时 ， 痔女し人 X た和法 !! 法 5 6 懂蕾 ！ く 「 た霣矿し撕 ， 亊ミグんな纖おその 4 を ！！ 解 ^ て狄松ぬ ： 9 條て扇 1^ 本 ？ 科一ら 1*71*7 V 々す渔 7， 節嬤 （ ね | # X 14\\\\1 爭 ， 運よくた ！！ 一のメ ： るをの確 T す濟 ： 章 ^ 央 ，.3 ミ决縑 7， の巧 ！^ 看しい項 ： 紀す人 ！6 峥 ! 轚 ， 科 ， 备务 1 费各 6 鼸しそ譏 ， 扛し勿的し谷動 1 の 『 18： 鼴時 6 ， す ！！ か停㈣しす人 ^ の漏 ； 等航 1) 货 :: ゼ你篇民 ？ 杯 . を厶蟾 ， ヂ 4： 肥 1 は ， にシ ❶ の錐 “ た I 91 鹹ぃ ， を 101 分 ；！^ が <0 る氣 ， ち命 ？ た ， る两 XII すの成 - 本 ？ 事あ會みし篇 7 茲 5 勤 》 申期 1， 六な ， 关 7 プ提 ， て . I 出架他讎をし參 歓迎桑灌备 8 北河醫院 ， 4： 鳄慶次 ！！ 十全轚院騫安癱定植山 8 院铋 11111 柬ヶ埼轚院康ダ蝓 I 枝ム 5 不 5 歎迎利 88 會藤田省三藤田雄三林兄弟 ； V 院槍垣益一弘田時次柙原 1| ||1 山本辰雄 I 厶灰 80 顧 ^ #5： 銜一六五 0 ！: 昭和圔竃麵 74 身 ！170^1 1 桑湯ポ ： 鰣石 . I 六錦花樓電 6 ゥ黑 |0 二 103 桑禱ポス - 銜一六五九友驊奠園 3 021 電齲 9 黑スト 1 八一二亀卓 .^ 5 六戈 \\'^ 蘇州潘霉期ク 5 人五 〇 〇 藥禱ブ令ヤナン衡一六一五 2: 萬 . 花樓爾餌 74 身 ^ 7 夭 21|| 111111 | ダ 9— 術一五二七率 1 : 廣東樓電 874 ル ， 7 八 111 五八 11^1 I 藥禱ポ 7 衡一七一五 :: 喜樂園電麯 74 ル ，70 鷗六一藥禱ブ令哿ナン銜 14|^ 二 1 天勝で電鼷クオナ ， 八二九八 19',\n",
       "       dtype='<U4791'),\n",
       " [127, 349, 760, 1647, 1725])"
      ]
     },
     "execution_count": 44,
     "metadata": {},
     "output_type": "execute_result"
    }
   ],
   "source": [
    "remove_hit(data.iloc[0]['paragraphs'], '二世')"
   ]
  },
  {
   "cell_type": "code",
   "execution_count": 45,
   "id": "0d44dffe-57d8-428c-b7b9-fbe94b9f5e01",
   "metadata": {},
   "outputs": [
    {
     "data": {
      "text/plain": [
       "'滅念祀迎獸轚鼴罾鐮 81 帝 1 世を黏レゎそれ —№ 11 にこ # は於 & しヤやニル ^ 」 81X2 する怒 5 ざ 511^ 牝把の 1251 にあ 61 蕾 ！！ 膽一 ^ 十 111 萬ミ & せられるが 、 この内 ，1 世は六萬 ， 二世は七錢 2 ぃ体 “， しか . 〇 11& のや 5^ 叱は 71.-1- 六纪 5 傭へら IX てゐ 6 嫌こ 1 ヒパ 4 才 <1 ャ — 1 し \\' I - 歡祀 41 はらつて ！ ヒげた蟓譬たる二说に ！！^ ！ す翠 . -5 づぃに - を初 13 つて 611 のであ 6 ゲ後 1 世 5 歡は撕少 08 をた ?\\' る一 ^ V あつてそれに比して ， 二 #， 芑坩 11 奶 5 七此處十印以内に & は完ゲに二世 6 世の屮 2 なつて來るだらぅ 0 1 世パ 4 ォ爲ャ — 0) 譏 ！^ を籲保 4|) たて — 行かなければならなぃ 1 一世の資任や纗め X 纛 4^ ある “ A この 1^ 阏 11 社 # にあつてこ赏の ？？^ 糴濟 2 し \\\\3！ も & されてゐ 6 のは (11 山 ^58^ ふ — グメントで #) る ，8：|^ #18 も二 V の練 5 屮 ？ じて ” 广 58 を 3 へて I \" 袭布 2 酽駔昏淀にデダ 1131^ 命 ：# #?\\' 鳩に績布讓曹 1 立を )¢, 6!: いた 〇 た ， 北は泠濬 ， 南は我く 9 サ齡デ — ザ . 帝 N1 牛蒙 . 軍は |1|1 中離 |： ゎたって 011 する & 4-(: 遍ん艺すも 111 ££2 か ^^^ 氍 .1& 纪して ^ 年ご 2 1: 令装允勢 .^ 11 す .4 个打の匯令上 .0^8^83^ 二世の和 3 2 21 に ！！ 者粑供邦人 №1- ¢)?? 拿な ！ 3 れ 2 なつてゐ 6 が ， これが 55 令幕ねてみた ！^. 路 £££6 1^ 饞は實に 111 45 し I す - まず臌が 0： 處 <1. = 年来の 115, 感允想し得たであらぅか ， が盱繡 3 な办 ， 令 # 的なものまなつたの ！^^ 六 ， 七厶〆か 1 が爲 #|| したの II 一九一三的であつ卜 ： 费キの二 2 年には今 11 0) 争素 II 來 ^~2|^ 會 6 ォ ^ 1 % 6 ベ参欠曹が ，！^1 ¢11 || の名 . 」 %\\' いてコ I 月廿九 1] 聲樁 1110-0^ かれた攀 1# VI% 7 V 7 鉍爲ノ ， 霤 I ダ 4 鲁メ曹 X ピル ， 軒布 ， 鬌庚 ， サ — ナス .8., け气 2 垂爲 〇 — 真 、 觸ポ 、 11, 77， 丨ピル各 ！！ から I 斯つた 2. 十名の似表が 1111 0: にわたつて ！^ 11 を 2 げた一扪 5- はチび害せし嫌伙に一 8 齡に役じてゐたすが - せ ^ 装後は舶がビ ； 明は卜 ！^ | なり ， 1/1- 八 ” 5？ 表では表 6 で火の清へたやぅな抓 |^ #| つた聲一厶 - , II 鼉に #) る 〇 分遽を ，^. するに 2？ んでル撥的に ！ 6 讲し I 把 /: , のご 2 く ！^ 11-0 一 ! が ！！ 11， れ 6, や II 一九二 2 申から - 4 二八年まで 31 ダ年 ^ 2^ の形にねかれ ！^ 皆 ^ 翁もこ世赛纪位奶如し和ん <1; 會にねけ \\'^ 種の讒 49*11 ！ い # 癢山 |^| |6 曾が V 入ゎ 3 な一つて . この大舞は雄期以上 | 仍牧檐を鬌 I こ 5 が出來た I 淑晌平康から色 IV づ I の !!？ 表 ！# が齷 I 10^ した ， ,^8#####################^#######################1 一 # び行く第二世 |^%%%%%%%%%%%%## 翁 ## %%^ ## ## ## ## #1 ## # ## # ## ## # ## # 一世の平均年齡五十六歲二世の数は七萬人 I XX V%？ れば 2：^1 \\\\1 の ！！ 縿が縳胄せられ ， 日本んの子なるが故に山松 |||； 釀保も I され 6 か靴は扪一 ^2 采ゼぬの太 3 £132 令裘し .！^ して康る . 厶獻 ，— | ‘ >1 #1^4 116 卽ち力であ狀 ％ ぎ一 1)( の祀 | 的纖 |||； 狀此の見は . 一九二九年の桑 1 1： ねけ 61： 平 ！ 0 策鉛沄 —？ 乾 3 した 、 1 九二八年 ！# 11 ネれた 只阳 4 > | 〇 批し布 \\'^ 一叱て員 ^ らがをゐ協 \\' じ防 ： | はる嫌 ， 一成 ？ I 0 9 ㈣ ， 玢 3 办か 9^ 雌 ： れ各すく松んた州 V しにで ’ のて ！： 争ア三 I 系 ？ 箏麴 〗 0 I 馨 ? 職 5 つ蘂 \" 會み三つに I こ (- 企レが 〇 たあグのハ ， い民 , 鑕 ！ 年 ？!^ ボ # づメ大 !？ 才两て篇叉囑 ^ に立かかン曾各此 ？ 鋒 15 會备校 7 はをを厶つ ， はゴか V 馨 5 2 當 ， 法次 X V II V II II 激 ： な蝙 、 てへ大 ？ 保 ？ 系 ^ % 系 4？ 系 ？ がつ 0 を 2 な嫌が V ， が生て系 ^ 心 3 I 鶫し似シ松松れ牝也 〜 . 成 ， カミ鱗 7 V 记ザた 10-!¢¢- がすせ在卜 # 表 # 务 .0 讓マあらム 7 巧 ，， 寶い !^:^ 政 ：，：； 』 01111 二へンぶ ../0 ダ 、 〆〆 ； \" ン 1 7，，\\'\\' ぐ -- て - づ -.- \\'，- —^8^ 一身 “ 一 — ,, 111\" 幽癱 4^ \\' 物 ^I 耋 X 齡 1 ‘- 癱 I — 1 — -- — 一 — 1 \\' - -. 一 - 1# ，4^，， 战九 ^ 1 争 .-. 1 芯 ；！：— 春承 ？^ て ！ の ^ 1 つの鼸紀内にい办 、 完令な . 〇 & 114 に鼸する各重 V 闻膨を铝ふ ！ I し . 组 5 ふ見 .^^^ らしめてゐ 6 令 ，@ 51 絮は 1 をに - 磨 # 备れる .?? 跡 9% 9 (1 1^ —1 いは一九 50 年 ^! 1; 類 ！^ れた - 5 胬 5 怒挺髟ょ备 54- 名 ^^ 作してをつた ， 今泉 X 曾 011 斯 ^#%% ベ # 一九 11 三 ？ 衮 ^ 嚶 5 にぞて 25 9 しい ！！^ V ぁ 6 。 氪こ逛 ^ II？ いで一一は磨でそれ \\'^ ⑹ 膽され ？？ 繁 4; で ？ されん 2 してゐ 6, ぞ ?.: # は |1，|| 名 ， 今 ^\\' 度欠 # には 1=- 名の町纪轉ゐ - 〇 ぺく飧如か 2 一 ^ で |1# 3|1 してゐ 6, 的和欠曾は 2 令雏ね 6 0 1 雀 ^^ につ II て後令光寅 ，^ 象の赢寫眞は啐年市比 ％ 大曹 6 からの力 ^# 一 !^| して豪 # 嫌 ^ 参あげられ 6 充分の明嫌 V 4 ってか 25153 芳にねけ . 01 0 6118 に 81?,？ なしつ —#> 6 4 した二 4^ 霣 ‘| デ ^ ントがぁった . 031^ 铤 ？， 421 む ^. 笔擊努 5 £1 した ? , 化 28 1 知せし ¢.94 事 ％ 嵌に表んせし和は丹把的手 ！！ に把れ沢紀し 11.0 事 ^ てぁつた . 117 2,25 5 6 5 作的 ^ I レ 1 齡 1 をパ \\'!^— 冤装 4 鼴 ^ 」 翦 1& 115 に 1*5112 して視 9| し 8 倉曹各 4 其松くのに酼 、 には 8 ゲ之 ^ 。 るがの撕そ 6 外 ， だな 6 は得鳙呢にか龙條す ， 月 5^:11*11！， 洲 I ゥ漁 . 一 ， て霧 1 は ❾ 龜 1 し大 ^ ア . 阳 ！ V， 今 ； 系 ^ 松につ繪 、 褰 5 で和 - ので ：； 於の杜家 ^ 譬 ^ のく成 ？ し〆項 4 か决如行サさ ： を九私一費なが ， がにて鷗 1 供 I ひ奴 16 か 4^2 基 、 ぃ偃 ！ 丨あに使しあ供 \" 嫌 ？#“ 匕九 ” ぃ话务遠如て ， 〇 チらを携ザ撕 ， れル鑛 ？ ヨし九はくんゃあは㈣鼸 ： がな - 令 . でら松し系 IX を 1 る重 ？ 妃ら畤 6 系 ？# 的運 “ 匕レ谢ぺし 0 船舞 \" 實专な襲 ： で赠 6 法 2 が ：1 如ヨ少撇 2 二ら蛸 6 说成 ？ がのあが娜 V てし / - 犬 ？ 今う代 ?.||| し斯し今飲來 2 厶た本 I 家人ド籤 1 しの \" 麻ゃ案 ？ せ年 ？ か一 I 遇 ； し鬣う等 ‘ のし ！ 只厶みら眞 3： 於行てし承じ一な戴 ，. 鏞 1 に 1¢: 褢 . ル 11 . 仝 ? 嫌似れ - 人ょ出 “ 法 !13 ， 立本 ！ 2 ， がん 0 5 年 2 ズしてが # かをてし #： ヤ | うのふ撕患 ？ ぃし今雪役了け 1111 扣闻いの ^！^|| 辽ば穷 ， 狄れにれ幻が入 ！， V 10*2 キ ： れにル立 5 騎一祀和 ％ 二 ， 宵 \\\\ らが代し I せ貪屬 5， II パ謂 ： し收つ明 … 確 ^ 人 ^ の來 ” ザ 11 ㈣ ？ ん 〇 て寿かの时 ， 痔女し人 X た和法 !! 法 5 6 懂蕾 ！ く 「 た霣矿し撕 ， 亊ミグんな纖おその 4 を ！！ 解 ^ て狄松ぬ ： 9 條て扇 1^ 本 ？ 科一ら 1*71*7 V 々す渔 7， 節嬤 （ ね | # X 14\\\\1 爭 ， 運よくた ！！ 一のメ ： るをの確 T す濟 ： 章 ^ 央 ，.3 ミ决縑 7， の巧 ！^ 看しい項 ： 紀す人 ！6 峥 ! 轚 ， 科 ， 备务 1 费各 6 鼸しそ譏 ， 扛し勿的し谷動 1 の 『 18： 鼴時 6 ， す ！！ か停㈣しす人 ^ の漏 ； 等航 1) 货 :: ゼ你篇民 ？ 杯 . を厶蟾 ， ヂ 4： 肥 1 は ， にシ ❶ の錐 “ た I 91 鹹ぃ ， を 101 分 ；！^ が <0 る氣 ， ち命 ？ た ， る两 XII すの成 - 本 ？ 事あ會みし篇 7 茲 5 勤 》 申期 1， 六な ， 关 7 プ提 ， て . I 出架他讎をし參 歓迎桑灌备 8 北河醫院 ， 4： 鳄慶次 ！！ 十全轚院騫安癱定植山 8 院铋 11111 柬ヶ埼轚院康ダ蝓 I 枝ム 5 不 5 歎迎利 88 會藤田省三藤田雄三林兄弟 ； V 院槍垣益一弘田時次柙原 1| ||1 山本辰雄 I 厶灰 80 顧 ^ #5： 銜一六五 0 ！: 昭和圔竃麵 74 身 ！170^1 1 桑湯ポ ： 鰣石 . I 六錦花樓電 6 ゥ黑 |0 二 103 桑禱ポス - 銜一六五九友驊奠園 3 021 電齲 9 黑スト 1 八一二亀卓 .^ 5 六戈 \\'^ 蘇州潘霉期ク 5 人五 〇 〇 藥禱ブ令ヤナン衡一六一五 2: 萬 . 花樓爾餌 74 身 ^ 7 夭 21|| 111111 | ダ 9— 術一五二七率 1 : 廣東樓電 874 ル ， 7 八 111 五八 11^1 I 藥禱ポ 7 衡一七一五 :: 喜樂園電麯 74 ル ，70 鷗六一藥禱ブ令哿ナン銜 14|^ 二 1 天勝で電鼷クオナ ， 八二九八 19'"
      ]
     },
     "execution_count": 45,
     "metadata": {},
     "output_type": "execute_result"
    }
   ],
   "source": [
    "data.iloc[0]['paragraphs']"
   ]
  },
  {
   "cell_type": "code",
   "execution_count": null,
   "id": "ac49edc5-d449-482e-9995-07058497f0e2",
   "metadata": {},
   "outputs": [],
   "source": []
  }
 ],
 "metadata": {
  "kernelspec": {
   "display_name": "Python 3 (ipykernel)",
   "language": "python",
   "name": "python3"
  },
  "language_info": {
   "codemirror_mode": {
    "name": "ipython",
    "version": 3
   },
   "file_extension": ".py",
   "mimetype": "text/x-python",
   "name": "python",
   "nbconvert_exporter": "python",
   "pygments_lexer": "ipython3",
   "version": "3.9.13"
  }
 },
 "nbformat": 4,
 "nbformat_minor": 5
}
